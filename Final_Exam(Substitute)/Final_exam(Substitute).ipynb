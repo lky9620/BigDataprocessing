{
 "cells": [
  {
   "cell_type": "markdown",
   "metadata": {},
   "source": [
    "### 0. 데이터셋 설명(대중교통 이용 교통카드 통계자료)\n",
    "   + T-money의 교통카드 이용통계를 통해 서울시의 버스정류장, 지하철 역별로 승차 승객수와 하차 승객수를 알 수 있는 데이터셋이다.\n",
    "   + 해당 데이터셋은 선/후불 교통카드 및 1회용 교통카드 기준으로 승/하차 기준을 산출한다.\n",
    "   + 지하철 이용 통계는 서울교통공사, 한국철도공사, 공항철도에 속한 노선과 9호선에 대한 이용 정보를 포함한다.\n",
    "   + 버스 이용 통계는 서울버스와 서울마을버스의 이용 정보를 포함한다.\n",
    "   + 코로나 이전과 이후 비교를 위해 12주차 과제와 동일하게 2019년 1월 ~ 2020년 12월의 데이터셋을 활용한다."
   ]
  },
  {
   "cell_type": "code",
   "execution_count": 1,
   "metadata": {},
   "outputs": [],
   "source": [
    "from pathlib import Path\n",
    "import warnings\n",
    "warnings.filterwarnings(action='ignore')\n",
    "\n",
    "import numpy as np\n",
    "import pandas as pd\n",
    "import matplotlib.pyplot as plt\n",
    "import seaborn as sns\n",
    "plt.rcParams['font.family'] = 'Malgun Gothic'"
   ]
  },
  {
   "cell_type": "markdown",
   "metadata": {},
   "source": [
    "### 1. 대중교통의 주요 정류장/역별 이용 현황\n",
    "   + '현황'은 일이 되어가는 현재의 과정이나 형편을 뜻한다.\n",
    "   + 버스/지하철의 이용현황을 파악하기 위해, 주어진 데이터 셋중 가장 최근의 데이터셋인 2020년 12월의 이용 현황을 파악한다.\n",
    "   + 데이터 파일의 1번 시트는 버스정류장별 이용현황, 2번 시트는 지하철 노선별 역별 이용현황을 포함한다."
   ]
  },
  {
   "cell_type": "code",
   "execution_count": 27,
   "metadata": {},
   "outputs": [
    {
     "data": {
      "text/html": [
       "<div>\n",
       "<style scoped>\n",
       "    .dataframe tbody tr th:only-of-type {\n",
       "        vertical-align: middle;\n",
       "    }\n",
       "\n",
       "    .dataframe tbody tr th {\n",
       "        vertical-align: top;\n",
       "    }\n",
       "\n",
       "    .dataframe thead th {\n",
       "        text-align: right;\n",
       "    }\n",
       "</style>\n",
       "<table border=\"1\" class=\"dataframe\">\n",
       "  <thead>\n",
       "    <tr style=\"text-align: right;\">\n",
       "      <th></th>\n",
       "      <th>사용월</th>\n",
       "      <th>노선ID</th>\n",
       "      <th>노선번호</th>\n",
       "      <th>노선명</th>\n",
       "      <th>버스정류장ID</th>\n",
       "      <th>버스정류장명</th>\n",
       "      <th>승차승객수</th>\n",
       "      <th>하차승객수</th>\n",
       "      <th>작업일시</th>\n",
       "    </tr>\n",
       "  </thead>\n",
       "  <tbody>\n",
       "    <tr>\n",
       "      <th>0</th>\n",
       "      <td>2020-12</td>\n",
       "      <td>11110897</td>\n",
       "      <td>0017</td>\n",
       "      <td>0017번(청암동~이촌동)</td>\n",
       "      <td>1</td>\n",
       "      <td>청암자이아파트</td>\n",
       "      <td>354</td>\n",
       "      <td>7</td>\n",
       "      <td>2021-01-03 09:36:40</td>\n",
       "    </tr>\n",
       "    <tr>\n",
       "      <th>1</th>\n",
       "      <td>2020-12</td>\n",
       "      <td>11110897</td>\n",
       "      <td>0017</td>\n",
       "      <td>0017번(청암동~이촌동)</td>\n",
       "      <td>2</td>\n",
       "      <td>청암동강변삼성아파트</td>\n",
       "      <td>1,219</td>\n",
       "      <td>23</td>\n",
       "      <td>2021-01-03 09:36:40</td>\n",
       "    </tr>\n",
       "    <tr>\n",
       "      <th>2</th>\n",
       "      <td>2020-12</td>\n",
       "      <td>11110897</td>\n",
       "      <td>0017</td>\n",
       "      <td>0017번(청암동~이촌동)</td>\n",
       "      <td>3</td>\n",
       "      <td>청심경로당</td>\n",
       "      <td>2,201</td>\n",
       "      <td>17</td>\n",
       "      <td>2021-01-03 09:36:40</td>\n",
       "    </tr>\n",
       "    <tr>\n",
       "      <th>3</th>\n",
       "      <td>2020-12</td>\n",
       "      <td>11110897</td>\n",
       "      <td>0017</td>\n",
       "      <td>0017번(청암동~이촌동)</td>\n",
       "      <td>4</td>\n",
       "      <td>원효2동주민센터</td>\n",
       "      <td>3,631</td>\n",
       "      <td>79</td>\n",
       "      <td>2021-01-03 09:36:40</td>\n",
       "    </tr>\n",
       "    <tr>\n",
       "      <th>4</th>\n",
       "      <td>2020-12</td>\n",
       "      <td>11110897</td>\n",
       "      <td>0017</td>\n",
       "      <td>0017번(청암동~이촌동)</td>\n",
       "      <td>5</td>\n",
       "      <td>산천동</td>\n",
       "      <td>4,552</td>\n",
       "      <td>186</td>\n",
       "      <td>2021-01-03 09:36:40</td>\n",
       "    </tr>\n",
       "    <tr>\n",
       "      <th>...</th>\n",
       "      <td>...</td>\n",
       "      <td>...</td>\n",
       "      <td>...</td>\n",
       "      <td>...</td>\n",
       "      <td>...</td>\n",
       "      <td>...</td>\n",
       "      <td>...</td>\n",
       "      <td>...</td>\n",
       "      <td>...</td>\n",
       "    </tr>\n",
       "    <tr>\n",
       "      <th>38999</th>\n",
       "      <td>2020-12</td>\n",
       "      <td>11110729</td>\n",
       "      <td>중랑02</td>\n",
       "      <td>중랑02(진로아파트~한신아파트)</td>\n",
       "      <td>22</td>\n",
       "      <td>서일대정문</td>\n",
       "      <td>8</td>\n",
       "      <td>57</td>\n",
       "      <td>2021-01-03 09:36:40</td>\n",
       "    </tr>\n",
       "    <tr>\n",
       "      <th>39000</th>\n",
       "      <td>2020-12</td>\n",
       "      <td>11110729</td>\n",
       "      <td>중랑02</td>\n",
       "      <td>중랑02(진로아파트~한신아파트)</td>\n",
       "      <td>23</td>\n",
       "      <td>새마을금고</td>\n",
       "      <td>69</td>\n",
       "      <td>888</td>\n",
       "      <td>2021-01-03 09:36:40</td>\n",
       "    </tr>\n",
       "    <tr>\n",
       "      <th>39001</th>\n",
       "      <td>2020-12</td>\n",
       "      <td>11110729</td>\n",
       "      <td>중랑02</td>\n",
       "      <td>중랑02(진로아파트~한신아파트)</td>\n",
       "      <td>24</td>\n",
       "      <td>공판장</td>\n",
       "      <td>1</td>\n",
       "      <td>845</td>\n",
       "      <td>2021-01-03 09:36:40</td>\n",
       "    </tr>\n",
       "    <tr>\n",
       "      <th>39002</th>\n",
       "      <td>2020-12</td>\n",
       "      <td>11110729</td>\n",
       "      <td>중랑02</td>\n",
       "      <td>중랑02(진로아파트~한신아파트)</td>\n",
       "      <td>25</td>\n",
       "      <td>진주빌라.바다약국</td>\n",
       "      <td>3</td>\n",
       "      <td>1,160</td>\n",
       "      <td>2021-01-03 09:36:40</td>\n",
       "    </tr>\n",
       "    <tr>\n",
       "      <th>39003</th>\n",
       "      <td>2020-12</td>\n",
       "      <td>11110729</td>\n",
       "      <td>중랑02</td>\n",
       "      <td>중랑02(진로아파트~한신아파트)</td>\n",
       "      <td>26</td>\n",
       "      <td>진로아파트앞.종점</td>\n",
       "      <td>13</td>\n",
       "      <td>367</td>\n",
       "      <td>2021-01-03 09:36:40</td>\n",
       "    </tr>\n",
       "  </tbody>\n",
       "</table>\n",
       "<p>39004 rows × 9 columns</p>\n",
       "</div>"
      ],
      "text/plain": [
       "           사용월      노선ID  노선번호                노선명  버스정류장ID      버스정류장명  승차승객수  \\\n",
       "0      2020-12  11110897  0017     0017번(청암동~이촌동)        1     청암자이아파트    354   \n",
       "1      2020-12  11110897  0017     0017번(청암동~이촌동)        2  청암동강변삼성아파트  1,219   \n",
       "2      2020-12  11110897  0017     0017번(청암동~이촌동)        3       청심경로당  2,201   \n",
       "3      2020-12  11110897  0017     0017번(청암동~이촌동)        4    원효2동주민센터  3,631   \n",
       "4      2020-12  11110897  0017     0017번(청암동~이촌동)        5         산천동  4,552   \n",
       "...        ...       ...   ...                ...      ...         ...    ...   \n",
       "38999  2020-12  11110729  중랑02  중랑02(진로아파트~한신아파트)       22       서일대정문      8   \n",
       "39000  2020-12  11110729  중랑02  중랑02(진로아파트~한신아파트)       23       새마을금고     69   \n",
       "39001  2020-12  11110729  중랑02  중랑02(진로아파트~한신아파트)       24         공판장      1   \n",
       "39002  2020-12  11110729  중랑02  중랑02(진로아파트~한신아파트)       25   진주빌라.바다약국      3   \n",
       "39003  2020-12  11110729  중랑02  중랑02(진로아파트~한신아파트)       26   진로아파트앞.종점     13   \n",
       "\n",
       "       하차승객수                 작업일시  \n",
       "0          7  2021-01-03 09:36:40  \n",
       "1         23  2021-01-03 09:36:40  \n",
       "2         17  2021-01-03 09:36:40  \n",
       "3         79  2021-01-03 09:36:40  \n",
       "4        186  2021-01-03 09:36:40  \n",
       "...      ...                  ...  \n",
       "38999     57  2021-01-03 09:36:40  \n",
       "39000    888  2021-01-03 09:36:40  \n",
       "39001    845  2021-01-03 09:36:40  \n",
       "39002  1,160  2021-01-03 09:36:40  \n",
       "39003    367  2021-01-03 09:36:40  \n",
       "\n",
       "[39004 rows x 9 columns]"
      ]
     },
     "execution_count": 27,
     "metadata": {},
     "output_type": "execute_result"
    }
   ],
   "source": [
    "df_2020_12_bus = pd.read_excel('Final_exam_Dataset/2020년 12월  교통카드 통계자료.xls',\n",
    "                              sheet_name = '버스정류장별 이용현황')\n",
    "df_2020_12_bus"
   ]
  },
  {
   "cell_type": "code",
   "execution_count": 22,
   "metadata": {},
   "outputs": [
    {
     "data": {
      "text/html": [
       "<div>\n",
       "<style scoped>\n",
       "    .dataframe tbody tr th:only-of-type {\n",
       "        vertical-align: middle;\n",
       "    }\n",
       "\n",
       "    .dataframe tbody tr th {\n",
       "        vertical-align: top;\n",
       "    }\n",
       "\n",
       "    .dataframe thead th {\n",
       "        text-align: right;\n",
       "    }\n",
       "</style>\n",
       "<table border=\"1\" class=\"dataframe\">\n",
       "  <thead>\n",
       "    <tr style=\"text-align: right;\">\n",
       "      <th></th>\n",
       "      <th>사용월</th>\n",
       "      <th>호선명</th>\n",
       "      <th>역ID</th>\n",
       "      <th>지하철역</th>\n",
       "      <th>승차승객수</th>\n",
       "      <th>하차승객수</th>\n",
       "      <th>작업일시</th>\n",
       "    </tr>\n",
       "  </thead>\n",
       "  <tbody>\n",
       "    <tr>\n",
       "      <th>0</th>\n",
       "      <td>2020-12</td>\n",
       "      <td>1호선</td>\n",
       "      <td>1</td>\n",
       "      <td>서울역</td>\n",
       "      <td>842,346</td>\n",
       "      <td>797,546</td>\n",
       "      <td>2021-01-03 09:36:40</td>\n",
       "    </tr>\n",
       "    <tr>\n",
       "      <th>1</th>\n",
       "      <td>2020-12</td>\n",
       "      <td>1호선</td>\n",
       "      <td>10</td>\n",
       "      <td>동묘앞</td>\n",
       "      <td>208,719</td>\n",
       "      <td>214,534</td>\n",
       "      <td>2021-01-03 09:36:40</td>\n",
       "    </tr>\n",
       "    <tr>\n",
       "      <th>2</th>\n",
       "      <td>2020-12</td>\n",
       "      <td>1호선</td>\n",
       "      <td>2</td>\n",
       "      <td>시청</td>\n",
       "      <td>429,145</td>\n",
       "      <td>423,621</td>\n",
       "      <td>2021-01-03 09:36:40</td>\n",
       "    </tr>\n",
       "    <tr>\n",
       "      <th>3</th>\n",
       "      <td>2020-12</td>\n",
       "      <td>1호선</td>\n",
       "      <td>3</td>\n",
       "      <td>종각</td>\n",
       "      <td>667,792</td>\n",
       "      <td>642,037</td>\n",
       "      <td>2021-01-03 09:36:40</td>\n",
       "    </tr>\n",
       "    <tr>\n",
       "      <th>4</th>\n",
       "      <td>2020-12</td>\n",
       "      <td>1호선</td>\n",
       "      <td>4</td>\n",
       "      <td>종로3가</td>\n",
       "      <td>493,106</td>\n",
       "      <td>450,421</td>\n",
       "      <td>2021-01-03 09:36:40</td>\n",
       "    </tr>\n",
       "    <tr>\n",
       "      <th>...</th>\n",
       "      <td>...</td>\n",
       "      <td>...</td>\n",
       "      <td>...</td>\n",
       "      <td>...</td>\n",
       "      <td>...</td>\n",
       "      <td>...</td>\n",
       "      <td>...</td>\n",
       "    </tr>\n",
       "    <tr>\n",
       "      <th>598</th>\n",
       "      <td>2020-12</td>\n",
       "      <td>우이신설선</td>\n",
       "      <td>705</td>\n",
       "      <td>북한산보국문</td>\n",
       "      <td>126,781</td>\n",
       "      <td>124,337</td>\n",
       "      <td>2021-01-03 09:36:40</td>\n",
       "    </tr>\n",
       "    <tr>\n",
       "      <th>599</th>\n",
       "      <td>2020-12</td>\n",
       "      <td>우이신설선</td>\n",
       "      <td>706</td>\n",
       "      <td>정릉</td>\n",
       "      <td>96,501</td>\n",
       "      <td>92,058</td>\n",
       "      <td>2021-01-03 09:36:40</td>\n",
       "    </tr>\n",
       "    <tr>\n",
       "      <th>600</th>\n",
       "      <td>2020-12</td>\n",
       "      <td>우이신설선</td>\n",
       "      <td>707</td>\n",
       "      <td>성신여대입구(돈암)</td>\n",
       "      <td>65,933</td>\n",
       "      <td>71,709</td>\n",
       "      <td>2021-01-03 09:36:40</td>\n",
       "    </tr>\n",
       "    <tr>\n",
       "      <th>601</th>\n",
       "      <td>2020-12</td>\n",
       "      <td>우이신설선</td>\n",
       "      <td>708</td>\n",
       "      <td>보문</td>\n",
       "      <td>33,909</td>\n",
       "      <td>34,610</td>\n",
       "      <td>2021-01-03 09:36:40</td>\n",
       "    </tr>\n",
       "    <tr>\n",
       "      <th>602</th>\n",
       "      <td>2020-12</td>\n",
       "      <td>우이신설선</td>\n",
       "      <td>709</td>\n",
       "      <td>신설동</td>\n",
       "      <td>50,154</td>\n",
       "      <td>47,806</td>\n",
       "      <td>2021-01-03 09:36:40</td>\n",
       "    </tr>\n",
       "  </tbody>\n",
       "</table>\n",
       "<p>603 rows × 7 columns</p>\n",
       "</div>"
      ],
      "text/plain": [
       "         사용월    호선명  역ID        지하철역    승차승객수    하차승객수                 작업일시\n",
       "0    2020-12    1호선    1         서울역  842,346  797,546  2021-01-03 09:36:40\n",
       "1    2020-12    1호선   10         동묘앞  208,719  214,534  2021-01-03 09:36:40\n",
       "2    2020-12    1호선    2          시청  429,145  423,621  2021-01-03 09:36:40\n",
       "3    2020-12    1호선    3          종각  667,792  642,037  2021-01-03 09:36:40\n",
       "4    2020-12    1호선    4        종로3가  493,106  450,421  2021-01-03 09:36:40\n",
       "..       ...    ...  ...         ...      ...      ...                  ...\n",
       "598  2020-12  우이신설선  705      북한산보국문  126,781  124,337  2021-01-03 09:36:40\n",
       "599  2020-12  우이신설선  706          정릉   96,501   92,058  2021-01-03 09:36:40\n",
       "600  2020-12  우이신설선  707  성신여대입구(돈암)   65,933   71,709  2021-01-03 09:36:40\n",
       "601  2020-12  우이신설선  708          보문   33,909   34,610  2021-01-03 09:36:40\n",
       "602  2020-12  우이신설선  709         신설동   50,154   47,806  2021-01-03 09:36:40\n",
       "\n",
       "[603 rows x 7 columns]"
      ]
     },
     "execution_count": 22,
     "metadata": {},
     "output_type": "execute_result"
    }
   ],
   "source": [
    "df_2020_12_sub = pd.read_excel('Final_exam_Dataset/2020년 12월  교통카드 통계자료.xls',\n",
    "                              sheet_name = '지하철 노선별 역별 이용현황')\n",
    "df_2020_12_sub"
   ]
  },
  {
   "cell_type": "markdown",
   "metadata": {},
   "source": [
    "   + 대중교통 이용 현황은 승차승객수와 하차승객수의 합이다.\n",
    "   + 버스, 지하철 별로 필요한 컬럼만을 가공하고, 같은 정류장, 지하철 역은 그룹화 하여 피봇테이블로 나타낸다."
   ]
  },
  {
   "cell_type": "code",
   "execution_count": 28,
   "metadata": {},
   "outputs": [
    {
     "data": {
      "text/html": [
       "<div>\n",
       "<style scoped>\n",
       "    .dataframe tbody tr th:only-of-type {\n",
       "        vertical-align: middle;\n",
       "    }\n",
       "\n",
       "    .dataframe tbody tr th {\n",
       "        vertical-align: top;\n",
       "    }\n",
       "\n",
       "    .dataframe thead th {\n",
       "        text-align: right;\n",
       "    }\n",
       "</style>\n",
       "<table border=\"1\" class=\"dataframe\">\n",
       "  <thead>\n",
       "    <tr style=\"text-align: right;\">\n",
       "      <th></th>\n",
       "      <th>이용승객수</th>\n",
       "    </tr>\n",
       "    <tr>\n",
       "      <th>버스정류장명</th>\n",
       "      <th></th>\n",
       "    </tr>\n",
       "  </thead>\n",
       "  <tbody>\n",
       "    <tr>\n",
       "      <th>(구)법화사</th>\n",
       "      <td>839</td>\n",
       "    </tr>\n",
       "    <tr>\n",
       "      <th>11단지</th>\n",
       "      <td>6048</td>\n",
       "    </tr>\n",
       "    <tr>\n",
       "      <th>123전자타운.2001아울렛</th>\n",
       "      <td>26274</td>\n",
       "    </tr>\n",
       "    <tr>\n",
       "      <th>12번지건영아파트</th>\n",
       "      <td>15228</td>\n",
       "    </tr>\n",
       "    <tr>\n",
       "      <th>13단지아파트입구</th>\n",
       "      <td>10189</td>\n",
       "    </tr>\n",
       "    <tr>\n",
       "      <th>...</th>\n",
       "      <td>...</td>\n",
       "    </tr>\n",
       "    <tr>\n",
       "      <th>힐스테이트송파.송파더센트레</th>\n",
       "      <td>5800</td>\n",
       "    </tr>\n",
       "    <tr>\n",
       "      <th>힐스테이트신촌.신촌푸르지오1단지후문</th>\n",
       "      <td>12854</td>\n",
       "    </tr>\n",
       "    <tr>\n",
       "      <th>힐스테이트입구</th>\n",
       "      <td>2471</td>\n",
       "    </tr>\n",
       "    <tr>\n",
       "      <th>힐탑</th>\n",
       "      <td>530</td>\n",
       "    </tr>\n",
       "    <tr>\n",
       "      <th>힐튼호텔</th>\n",
       "      <td>16151</td>\n",
       "    </tr>\n",
       "  </tbody>\n",
       "</table>\n",
       "<p>7990 rows × 1 columns</p>\n",
       "</div>"
      ],
      "text/plain": [
       "                     이용승객수\n",
       "버스정류장명                    \n",
       "(구)법화사                 839\n",
       "11단지                  6048\n",
       "123전자타운.2001아울렛      26274\n",
       "12번지건영아파트            15228\n",
       "13단지아파트입구            10189\n",
       "...                    ...\n",
       "힐스테이트송파.송파더센트레        5800\n",
       "힐스테이트신촌.신촌푸르지오1단지후문  12854\n",
       "힐스테이트입구               2471\n",
       "힐탑                     530\n",
       "힐튼호텔                 16151\n",
       "\n",
       "[7990 rows x 1 columns]"
      ]
     },
     "execution_count": 28,
     "metadata": {},
     "output_type": "execute_result"
    }
   ],
   "source": [
    "for i in range(len(df_2020_12_bus)):\n",
    "    df_2020_12_bus['승차승객수'][i] = int(df_2020_12_bus['승차승객수'][i].replace(',',''))+int(df_2020_12_bus['하차승객수'][i].replace(',',''))\n",
    "df_2020_12_bus.rename(columns = {'승차승객수':'이용승객수'}, inplace = True)\n",
    "df_2020_12_bus = df_2020_12_bus[['버스정류장명','이용승객수']]\n",
    "df_2020_12_bus = df_2020_12_bus.groupby(['버스정류장명']).sum()\n",
    "df_2020_12_bus"
   ]
  },
  {
   "cell_type": "code",
   "execution_count": 23,
   "metadata": {},
   "outputs": [
    {
     "data": {
      "text/html": [
       "<div>\n",
       "<style scoped>\n",
       "    .dataframe tbody tr th:only-of-type {\n",
       "        vertical-align: middle;\n",
       "    }\n",
       "\n",
       "    .dataframe tbody tr th {\n",
       "        vertical-align: top;\n",
       "    }\n",
       "\n",
       "    .dataframe thead th {\n",
       "        text-align: right;\n",
       "    }\n",
       "</style>\n",
       "<table border=\"1\" class=\"dataframe\">\n",
       "  <thead>\n",
       "    <tr style=\"text-align: right;\">\n",
       "      <th></th>\n",
       "      <th>이용승객수</th>\n",
       "    </tr>\n",
       "    <tr>\n",
       "      <th>지하철역</th>\n",
       "      <th></th>\n",
       "    </tr>\n",
       "  </thead>\n",
       "  <tbody>\n",
       "    <tr>\n",
       "      <th>4.19민주묘지</th>\n",
       "      <td>121940</td>\n",
       "    </tr>\n",
       "    <tr>\n",
       "      <th>가능</th>\n",
       "      <td>283817</td>\n",
       "    </tr>\n",
       "    <tr>\n",
       "      <th>가락시장</th>\n",
       "      <td>761665</td>\n",
       "    </tr>\n",
       "    <tr>\n",
       "      <th>가산디지털단지</th>\n",
       "      <td>2759471</td>\n",
       "    </tr>\n",
       "    <tr>\n",
       "      <th>가양</th>\n",
       "      <td>859777</td>\n",
       "    </tr>\n",
       "    <tr>\n",
       "      <th>...</th>\n",
       "      <td>...</td>\n",
       "    </tr>\n",
       "    <tr>\n",
       "      <th>회기</th>\n",
       "      <td>1001485</td>\n",
       "    </tr>\n",
       "    <tr>\n",
       "      <th>회룡</th>\n",
       "      <td>539812</td>\n",
       "    </tr>\n",
       "    <tr>\n",
       "      <th>회현(남대문시장)</th>\n",
       "      <td>991103</td>\n",
       "    </tr>\n",
       "    <tr>\n",
       "      <th>효창공원앞</th>\n",
       "      <td>420788</td>\n",
       "    </tr>\n",
       "    <tr>\n",
       "      <th>흑석(중앙대입구)</th>\n",
       "      <td>338158</td>\n",
       "    </tr>\n",
       "  </tbody>\n",
       "</table>\n",
       "<p>517 rows × 1 columns</p>\n",
       "</div>"
      ],
      "text/plain": [
       "             이용승객수\n",
       "지하철역              \n",
       "4.19민주묘지    121940\n",
       "가능          283817\n",
       "가락시장        761665\n",
       "가산디지털단지    2759471\n",
       "가양          859777\n",
       "...            ...\n",
       "회기         1001485\n",
       "회룡          539812\n",
       "회현(남대문시장)   991103\n",
       "효창공원앞       420788\n",
       "흑석(중앙대입구)   338158\n",
       "\n",
       "[517 rows x 1 columns]"
      ]
     },
     "execution_count": 23,
     "metadata": {},
     "output_type": "execute_result"
    }
   ],
   "source": [
    "for i in range(len(df_2020_12_sub)):\n",
    "    df_2020_12_sub['승차승객수'][i] = int(df_2020_12_sub['승차승객수'][i].replace(',',''))+int(df_2020_12_sub['하차승객수'][i].replace(',',''))\n",
    "df_2020_12_sub.rename(columns = {'승차승객수':'이용승객수'}, inplace = True)\n",
    "df_2020_12_sub = df_2020_12_sub[['지하철역','이용승객수']]\n",
    "df_2020_12_sub = df_2020_12_sub.groupby(['지하철역']).sum()\n",
    "df_2020_12_sub"
   ]
  },
  {
   "cell_type": "markdown",
   "metadata": {},
   "source": [
    "   + 주요 버스정류장/지하철역은 이용승객수가 가장 많은 상위 10개의 버스정류장/지하철역으로 한다."
   ]
  },
  {
   "cell_type": "code",
   "execution_count": 47,
   "metadata": {},
   "outputs": [
    {
     "data": {
      "text/html": [
       "<div>\n",
       "<style scoped>\n",
       "    .dataframe tbody tr th:only-of-type {\n",
       "        vertical-align: middle;\n",
       "    }\n",
       "\n",
       "    .dataframe tbody tr th {\n",
       "        vertical-align: top;\n",
       "    }\n",
       "\n",
       "    .dataframe thead th {\n",
       "        text-align: right;\n",
       "    }\n",
       "</style>\n",
       "<table border=\"1\" class=\"dataframe\">\n",
       "  <thead>\n",
       "    <tr style=\"text-align: right;\">\n",
       "      <th></th>\n",
       "      <th>이용승객수</th>\n",
       "    </tr>\n",
       "    <tr>\n",
       "      <th>노선번호</th>\n",
       "      <th></th>\n",
       "    </tr>\n",
       "  </thead>\n",
       "  <tbody>\n",
       "    <tr>\n",
       "      <th>143</th>\n",
       "      <td>1432630</td>\n",
       "    </tr>\n",
       "    <tr>\n",
       "      <th>152</th>\n",
       "      <td>1431924</td>\n",
       "    </tr>\n",
       "    <tr>\n",
       "      <th>160</th>\n",
       "      <td>1392571</td>\n",
       "    </tr>\n",
       "    <tr>\n",
       "      <th>130</th>\n",
       "      <td>1361218</td>\n",
       "    </tr>\n",
       "    <tr>\n",
       "      <th>303</th>\n",
       "      <td>1276285</td>\n",
       "    </tr>\n",
       "    <tr>\n",
       "      <th>153</th>\n",
       "      <td>1263838</td>\n",
       "    </tr>\n",
       "    <tr>\n",
       "      <th>272</th>\n",
       "      <td>1253421</td>\n",
       "    </tr>\n",
       "    <tr>\n",
       "      <th>146</th>\n",
       "      <td>1185358</td>\n",
       "    </tr>\n",
       "    <tr>\n",
       "      <th>147</th>\n",
       "      <td>1158188</td>\n",
       "    </tr>\n",
       "    <tr>\n",
       "      <th>370</th>\n",
       "      <td>1139957</td>\n",
       "    </tr>\n",
       "  </tbody>\n",
       "</table>\n",
       "</div>"
      ],
      "text/plain": [
       "        이용승객수\n",
       "노선번호         \n",
       "143   1432630\n",
       "152   1431924\n",
       "160   1392571\n",
       "130   1361218\n",
       "303   1276285\n",
       "153   1263838\n",
       "272   1253421\n",
       "146   1185358\n",
       "147   1158188\n",
       "370   1139957"
      ]
     },
     "execution_count": 47,
     "metadata": {},
     "output_type": "execute_result"
    }
   ],
   "source": [
    "df_2020_12_bus = df_2020_12_bus.sort_values(by = '이용승객수', ascending = False)[:10]\n",
    "df_2020_12_bus"
   ]
  },
  {
   "cell_type": "code",
   "execution_count": 31,
   "metadata": {},
   "outputs": [
    {
     "data": {
      "text/html": [
       "<div>\n",
       "<style scoped>\n",
       "    .dataframe tbody tr th:only-of-type {\n",
       "        vertical-align: middle;\n",
       "    }\n",
       "\n",
       "    .dataframe tbody tr th {\n",
       "        vertical-align: top;\n",
       "    }\n",
       "\n",
       "    .dataframe thead th {\n",
       "        text-align: right;\n",
       "    }\n",
       "</style>\n",
       "<table border=\"1\" class=\"dataframe\">\n",
       "  <thead>\n",
       "    <tr style=\"text-align: right;\">\n",
       "      <th></th>\n",
       "      <th>이용승객수</th>\n",
       "    </tr>\n",
       "    <tr>\n",
       "      <th>지하철역</th>\n",
       "      <th></th>\n",
       "    </tr>\n",
       "  </thead>\n",
       "  <tbody>\n",
       "    <tr>\n",
       "      <th>잠실(송파구청)</th>\n",
       "      <td>3314843</td>\n",
       "    </tr>\n",
       "    <tr>\n",
       "      <th>강남</th>\n",
       "      <td>3167883</td>\n",
       "    </tr>\n",
       "    <tr>\n",
       "      <th>고속터미널</th>\n",
       "      <td>2908440</td>\n",
       "    </tr>\n",
       "    <tr>\n",
       "      <th>선릉</th>\n",
       "      <td>2837243</td>\n",
       "    </tr>\n",
       "    <tr>\n",
       "      <th>신림</th>\n",
       "      <td>2799927</td>\n",
       "    </tr>\n",
       "    <tr>\n",
       "      <th>가산디지털단지</th>\n",
       "      <td>2759471</td>\n",
       "    </tr>\n",
       "    <tr>\n",
       "      <th>서울역</th>\n",
       "      <td>2729257</td>\n",
       "    </tr>\n",
       "    <tr>\n",
       "      <th>구로디지털단지</th>\n",
       "      <td>2598153</td>\n",
       "    </tr>\n",
       "    <tr>\n",
       "      <th>사당</th>\n",
       "      <td>2478816</td>\n",
       "    </tr>\n",
       "    <tr>\n",
       "      <th>홍대입구</th>\n",
       "      <td>2339520</td>\n",
       "    </tr>\n",
       "  </tbody>\n",
       "</table>\n",
       "</div>"
      ],
      "text/plain": [
       "            이용승객수\n",
       "지하철역             \n",
       "잠실(송파구청)  3314843\n",
       "강남        3167883\n",
       "고속터미널     2908440\n",
       "선릉        2837243\n",
       "신림        2799927\n",
       "가산디지털단지   2759471\n",
       "서울역       2729257\n",
       "구로디지털단지   2598153\n",
       "사당        2478816\n",
       "홍대입구      2339520"
      ]
     },
     "execution_count": 31,
     "metadata": {},
     "output_type": "execute_result"
    }
   ],
   "source": [
    "df_2020_12_sub = df_2020_12_sub.sort_values(by = '이용승객수', ascending = False)[:10]\n",
    "df_2020_12_sub"
   ]
  },
  {
   "cell_type": "markdown",
   "metadata": {},
   "source": [
    "   + 대중교통의 주요 정류장, 역별 현황을 막대그래프로 시각화 하면 아래와 같다."
   ]
  },
  {
   "cell_type": "code",
   "execution_count": 40,
   "metadata": {},
   "outputs": [
    {
     "data": {
      "text/plain": [
       "Text(0.5, 0, '버스정류장')"
      ]
     },
     "execution_count": 40,
     "metadata": {},
     "output_type": "execute_result"
    },
    {
     "data": {
      "image/png": "[encoded data removed]",
      "text/plain": [
       "<Figure size 720x360 with 1 Axes>"
      ]
     },
     "metadata": {
      "needs_background": "light"
     },
     "output_type": "display_data"
    }
   ],
   "source": [
    "plt.rcParams['font.family'] = 'Malgun Gothic'\n",
    "fig = plt.figure(figsize = (10,5))\n",
    "plt.barh(list(df_2020_12_bus.index),\n",
    "        list(df_2020_12_bus['이용승객수']))\n",
    "plt.title('주요 버스정류장의 이용 승객 현황')\n",
    "plt.xlabel('이용승객수')\n",
    "plt.xlabel('버스정류장')"
   ]
  },
  {
   "cell_type": "code",
   "execution_count": 39,
   "metadata": {},
   "outputs": [
    {
     "data": {
      "text/plain": [
       "Text(0.5, 0, '지하철역')"
      ]
     },
     "execution_count": 39,
     "metadata": {},
     "output_type": "execute_result"
    },
    {
     "data": {
      "image/png": "[encoded data removed]",
      "text/plain": [
       "<Figure size 720x360 with 1 Axes>"
      ]
     },
     "metadata": {
      "needs_background": "light"
     },
     "output_type": "display_data"
    }
   ],
   "source": [
    "fig = plt.figure(figsize = (10,5))\n",
    "plt.barh(list(df_2020_12_sub.index),\n",
    "        list(df_2020_12_sub['이용승객수']))\n",
    "plt.title('주요 지하철역의 이용 승객 현황')\n",
    "plt.xlabel('이용승객수')\n",
    "plt.xlabel('지하철역')"
   ]
  },
  {
   "cell_type": "markdown",
   "metadata": {},
   "source": [
    "   + 버스정류장은 미아사거리역, 구로디지털단지역, 홍대입구역 순 등으로 많았고, 지하철역은 잠실, 강남, 고속터미널역 순으로 이용승객이 많음을 보여주었다."
   ]
  },
  {
   "cell_type": "markdown",
   "metadata": {},
   "source": [
    "### 2. 대중교통 주요 버스 노선/지하철 호선별 이용 현황\n",
    "   + 대중교통 주요 버스 노선/지하철 호선별 이용 현황을 파악하기 위해, 주어진 데이터셋 중 가장 최근의 데이터셋인 2020년 12월의 버스 노선/지하철 호선별 이용 현황을 파악한다.\n",
    "   + 파일 로드 및 전처리 방법은 1. 절의 내용과 유사하다."
   ]
  },
  {
   "cell_type": "code",
   "execution_count": 57,
   "metadata": {},
   "outputs": [
    {
     "data": {
      "text/html": [
       "<div>\n",
       "<style scoped>\n",
       "    .dataframe tbody tr th:only-of-type {\n",
       "        vertical-align: middle;\n",
       "    }\n",
       "\n",
       "    .dataframe tbody tr th {\n",
       "        vertical-align: top;\n",
       "    }\n",
       "\n",
       "    .dataframe thead th {\n",
       "        text-align: right;\n",
       "    }\n",
       "</style>\n",
       "<table border=\"1\" class=\"dataframe\">\n",
       "  <thead>\n",
       "    <tr style=\"text-align: right;\">\n",
       "      <th></th>\n",
       "      <th>사용월</th>\n",
       "      <th>노선ID</th>\n",
       "      <th>노선번호</th>\n",
       "      <th>노선명</th>\n",
       "      <th>버스정류장ID</th>\n",
       "      <th>버스정류장명</th>\n",
       "      <th>승차승객수</th>\n",
       "      <th>하차승객수</th>\n",
       "      <th>작업일시</th>\n",
       "    </tr>\n",
       "  </thead>\n",
       "  <tbody>\n",
       "    <tr>\n",
       "      <th>0</th>\n",
       "      <td>2020-12</td>\n",
       "      <td>11110897</td>\n",
       "      <td>0017</td>\n",
       "      <td>0017번(청암동~이촌동)</td>\n",
       "      <td>1</td>\n",
       "      <td>청암자이아파트</td>\n",
       "      <td>354</td>\n",
       "      <td>7</td>\n",
       "      <td>2021-01-03 09:36:40</td>\n",
       "    </tr>\n",
       "    <tr>\n",
       "      <th>1</th>\n",
       "      <td>2020-12</td>\n",
       "      <td>11110897</td>\n",
       "      <td>0017</td>\n",
       "      <td>0017번(청암동~이촌동)</td>\n",
       "      <td>2</td>\n",
       "      <td>청암동강변삼성아파트</td>\n",
       "      <td>1,219</td>\n",
       "      <td>23</td>\n",
       "      <td>2021-01-03 09:36:40</td>\n",
       "    </tr>\n",
       "    <tr>\n",
       "      <th>2</th>\n",
       "      <td>2020-12</td>\n",
       "      <td>11110897</td>\n",
       "      <td>0017</td>\n",
       "      <td>0017번(청암동~이촌동)</td>\n",
       "      <td>3</td>\n",
       "      <td>청심경로당</td>\n",
       "      <td>2,201</td>\n",
       "      <td>17</td>\n",
       "      <td>2021-01-03 09:36:40</td>\n",
       "    </tr>\n",
       "    <tr>\n",
       "      <th>3</th>\n",
       "      <td>2020-12</td>\n",
       "      <td>11110897</td>\n",
       "      <td>0017</td>\n",
       "      <td>0017번(청암동~이촌동)</td>\n",
       "      <td>4</td>\n",
       "      <td>원효2동주민센터</td>\n",
       "      <td>3,631</td>\n",
       "      <td>79</td>\n",
       "      <td>2021-01-03 09:36:40</td>\n",
       "    </tr>\n",
       "    <tr>\n",
       "      <th>4</th>\n",
       "      <td>2020-12</td>\n",
       "      <td>11110897</td>\n",
       "      <td>0017</td>\n",
       "      <td>0017번(청암동~이촌동)</td>\n",
       "      <td>5</td>\n",
       "      <td>산천동</td>\n",
       "      <td>4,552</td>\n",
       "      <td>186</td>\n",
       "      <td>2021-01-03 09:36:40</td>\n",
       "    </tr>\n",
       "    <tr>\n",
       "      <th>...</th>\n",
       "      <td>...</td>\n",
       "      <td>...</td>\n",
       "      <td>...</td>\n",
       "      <td>...</td>\n",
       "      <td>...</td>\n",
       "      <td>...</td>\n",
       "      <td>...</td>\n",
       "      <td>...</td>\n",
       "      <td>...</td>\n",
       "    </tr>\n",
       "    <tr>\n",
       "      <th>38999</th>\n",
       "      <td>2020-12</td>\n",
       "      <td>11110729</td>\n",
       "      <td>중랑02</td>\n",
       "      <td>중랑02(진로아파트~한신아파트)</td>\n",
       "      <td>22</td>\n",
       "      <td>서일대정문</td>\n",
       "      <td>8</td>\n",
       "      <td>57</td>\n",
       "      <td>2021-01-03 09:36:40</td>\n",
       "    </tr>\n",
       "    <tr>\n",
       "      <th>39000</th>\n",
       "      <td>2020-12</td>\n",
       "      <td>11110729</td>\n",
       "      <td>중랑02</td>\n",
       "      <td>중랑02(진로아파트~한신아파트)</td>\n",
       "      <td>23</td>\n",
       "      <td>새마을금고</td>\n",
       "      <td>69</td>\n",
       "      <td>888</td>\n",
       "      <td>2021-01-03 09:36:40</td>\n",
       "    </tr>\n",
       "    <tr>\n",
       "      <th>39001</th>\n",
       "      <td>2020-12</td>\n",
       "      <td>11110729</td>\n",
       "      <td>중랑02</td>\n",
       "      <td>중랑02(진로아파트~한신아파트)</td>\n",
       "      <td>24</td>\n",
       "      <td>공판장</td>\n",
       "      <td>1</td>\n",
       "      <td>845</td>\n",
       "      <td>2021-01-03 09:36:40</td>\n",
       "    </tr>\n",
       "    <tr>\n",
       "      <th>39002</th>\n",
       "      <td>2020-12</td>\n",
       "      <td>11110729</td>\n",
       "      <td>중랑02</td>\n",
       "      <td>중랑02(진로아파트~한신아파트)</td>\n",
       "      <td>25</td>\n",
       "      <td>진주빌라.바다약국</td>\n",
       "      <td>3</td>\n",
       "      <td>1,160</td>\n",
       "      <td>2021-01-03 09:36:40</td>\n",
       "    </tr>\n",
       "    <tr>\n",
       "      <th>39003</th>\n",
       "      <td>2020-12</td>\n",
       "      <td>11110729</td>\n",
       "      <td>중랑02</td>\n",
       "      <td>중랑02(진로아파트~한신아파트)</td>\n",
       "      <td>26</td>\n",
       "      <td>진로아파트앞.종점</td>\n",
       "      <td>13</td>\n",
       "      <td>367</td>\n",
       "      <td>2021-01-03 09:36:40</td>\n",
       "    </tr>\n",
       "  </tbody>\n",
       "</table>\n",
       "<p>39004 rows × 9 columns</p>\n",
       "</div>"
      ],
      "text/plain": [
       "           사용월      노선ID  노선번호                노선명  버스정류장ID      버스정류장명  승차승객수  \\\n",
       "0      2020-12  11110897  0017     0017번(청암동~이촌동)        1     청암자이아파트    354   \n",
       "1      2020-12  11110897  0017     0017번(청암동~이촌동)        2  청암동강변삼성아파트  1,219   \n",
       "2      2020-12  11110897  0017     0017번(청암동~이촌동)        3       청심경로당  2,201   \n",
       "3      2020-12  11110897  0017     0017번(청암동~이촌동)        4    원효2동주민센터  3,631   \n",
       "4      2020-12  11110897  0017     0017번(청암동~이촌동)        5         산천동  4,552   \n",
       "...        ...       ...   ...                ...      ...         ...    ...   \n",
       "38999  2020-12  11110729  중랑02  중랑02(진로아파트~한신아파트)       22       서일대정문      8   \n",
       "39000  2020-12  11110729  중랑02  중랑02(진로아파트~한신아파트)       23       새마을금고     69   \n",
       "39001  2020-12  11110729  중랑02  중랑02(진로아파트~한신아파트)       24         공판장      1   \n",
       "39002  2020-12  11110729  중랑02  중랑02(진로아파트~한신아파트)       25   진주빌라.바다약국      3   \n",
       "39003  2020-12  11110729  중랑02  중랑02(진로아파트~한신아파트)       26   진로아파트앞.종점     13   \n",
       "\n",
       "       하차승객수                 작업일시  \n",
       "0          7  2021-01-03 09:36:40  \n",
       "1         23  2021-01-03 09:36:40  \n",
       "2         17  2021-01-03 09:36:40  \n",
       "3         79  2021-01-03 09:36:40  \n",
       "4        186  2021-01-03 09:36:40  \n",
       "...      ...                  ...  \n",
       "38999     57  2021-01-03 09:36:40  \n",
       "39000    888  2021-01-03 09:36:40  \n",
       "39001    845  2021-01-03 09:36:40  \n",
       "39002  1,160  2021-01-03 09:36:40  \n",
       "39003    367  2021-01-03 09:36:40  \n",
       "\n",
       "[39004 rows x 9 columns]"
      ]
     },
     "execution_count": 57,
     "metadata": {},
     "output_type": "execute_result"
    }
   ],
   "source": [
    "df_2020_12_bus = pd.read_excel('Final_exam_Dataset/2020년 12월  교통카드 통계자료.xls',\n",
    "                              sheet_name = '버스정류장별 이용현황')\n",
    "df_2020_12_bus"
   ]
  },
  {
   "cell_type": "code",
   "execution_count": 42,
   "metadata": {},
   "outputs": [
    {
     "data": {
      "text/html": [
       "<div>\n",
       "<style scoped>\n",
       "    .dataframe tbody tr th:only-of-type {\n",
       "        vertical-align: middle;\n",
       "    }\n",
       "\n",
       "    .dataframe tbody tr th {\n",
       "        vertical-align: top;\n",
       "    }\n",
       "\n",
       "    .dataframe thead th {\n",
       "        text-align: right;\n",
       "    }\n",
       "</style>\n",
       "<table border=\"1\" class=\"dataframe\">\n",
       "  <thead>\n",
       "    <tr style=\"text-align: right;\">\n",
       "      <th></th>\n",
       "      <th>사용월</th>\n",
       "      <th>호선명</th>\n",
       "      <th>역ID</th>\n",
       "      <th>지하철역</th>\n",
       "      <th>승차승객수</th>\n",
       "      <th>하차승객수</th>\n",
       "      <th>작업일시</th>\n",
       "    </tr>\n",
       "  </thead>\n",
       "  <tbody>\n",
       "    <tr>\n",
       "      <th>0</th>\n",
       "      <td>2020-12</td>\n",
       "      <td>1호선</td>\n",
       "      <td>1</td>\n",
       "      <td>서울역</td>\n",
       "      <td>842,346</td>\n",
       "      <td>797,546</td>\n",
       "      <td>2021-01-03 09:36:40</td>\n",
       "    </tr>\n",
       "    <tr>\n",
       "      <th>1</th>\n",
       "      <td>2020-12</td>\n",
       "      <td>1호선</td>\n",
       "      <td>10</td>\n",
       "      <td>동묘앞</td>\n",
       "      <td>208,719</td>\n",
       "      <td>214,534</td>\n",
       "      <td>2021-01-03 09:36:40</td>\n",
       "    </tr>\n",
       "    <tr>\n",
       "      <th>2</th>\n",
       "      <td>2020-12</td>\n",
       "      <td>1호선</td>\n",
       "      <td>2</td>\n",
       "      <td>시청</td>\n",
       "      <td>429,145</td>\n",
       "      <td>423,621</td>\n",
       "      <td>2021-01-03 09:36:40</td>\n",
       "    </tr>\n",
       "    <tr>\n",
       "      <th>3</th>\n",
       "      <td>2020-12</td>\n",
       "      <td>1호선</td>\n",
       "      <td>3</td>\n",
       "      <td>종각</td>\n",
       "      <td>667,792</td>\n",
       "      <td>642,037</td>\n",
       "      <td>2021-01-03 09:36:40</td>\n",
       "    </tr>\n",
       "    <tr>\n",
       "      <th>4</th>\n",
       "      <td>2020-12</td>\n",
       "      <td>1호선</td>\n",
       "      <td>4</td>\n",
       "      <td>종로3가</td>\n",
       "      <td>493,106</td>\n",
       "      <td>450,421</td>\n",
       "      <td>2021-01-03 09:36:40</td>\n",
       "    </tr>\n",
       "    <tr>\n",
       "      <th>...</th>\n",
       "      <td>...</td>\n",
       "      <td>...</td>\n",
       "      <td>...</td>\n",
       "      <td>...</td>\n",
       "      <td>...</td>\n",
       "      <td>...</td>\n",
       "      <td>...</td>\n",
       "    </tr>\n",
       "    <tr>\n",
       "      <th>598</th>\n",
       "      <td>2020-12</td>\n",
       "      <td>우이신설선</td>\n",
       "      <td>705</td>\n",
       "      <td>북한산보국문</td>\n",
       "      <td>126,781</td>\n",
       "      <td>124,337</td>\n",
       "      <td>2021-01-03 09:36:40</td>\n",
       "    </tr>\n",
       "    <tr>\n",
       "      <th>599</th>\n",
       "      <td>2020-12</td>\n",
       "      <td>우이신설선</td>\n",
       "      <td>706</td>\n",
       "      <td>정릉</td>\n",
       "      <td>96,501</td>\n",
       "      <td>92,058</td>\n",
       "      <td>2021-01-03 09:36:40</td>\n",
       "    </tr>\n",
       "    <tr>\n",
       "      <th>600</th>\n",
       "      <td>2020-12</td>\n",
       "      <td>우이신설선</td>\n",
       "      <td>707</td>\n",
       "      <td>성신여대입구(돈암)</td>\n",
       "      <td>65,933</td>\n",
       "      <td>71,709</td>\n",
       "      <td>2021-01-03 09:36:40</td>\n",
       "    </tr>\n",
       "    <tr>\n",
       "      <th>601</th>\n",
       "      <td>2020-12</td>\n",
       "      <td>우이신설선</td>\n",
       "      <td>708</td>\n",
       "      <td>보문</td>\n",
       "      <td>33,909</td>\n",
       "      <td>34,610</td>\n",
       "      <td>2021-01-03 09:36:40</td>\n",
       "    </tr>\n",
       "    <tr>\n",
       "      <th>602</th>\n",
       "      <td>2020-12</td>\n",
       "      <td>우이신설선</td>\n",
       "      <td>709</td>\n",
       "      <td>신설동</td>\n",
       "      <td>50,154</td>\n",
       "      <td>47,806</td>\n",
       "      <td>2021-01-03 09:36:40</td>\n",
       "    </tr>\n",
       "  </tbody>\n",
       "</table>\n",
       "<p>603 rows × 7 columns</p>\n",
       "</div>"
      ],
      "text/plain": [
       "         사용월    호선명  역ID        지하철역    승차승객수    하차승객수                 작업일시\n",
       "0    2020-12    1호선    1         서울역  842,346  797,546  2021-01-03 09:36:40\n",
       "1    2020-12    1호선   10         동묘앞  208,719  214,534  2021-01-03 09:36:40\n",
       "2    2020-12    1호선    2          시청  429,145  423,621  2021-01-03 09:36:40\n",
       "3    2020-12    1호선    3          종각  667,792  642,037  2021-01-03 09:36:40\n",
       "4    2020-12    1호선    4        종로3가  493,106  450,421  2021-01-03 09:36:40\n",
       "..       ...    ...  ...         ...      ...      ...                  ...\n",
       "598  2020-12  우이신설선  705      북한산보국문  126,781  124,337  2021-01-03 09:36:40\n",
       "599  2020-12  우이신설선  706          정릉   96,501   92,058  2021-01-03 09:36:40\n",
       "600  2020-12  우이신설선  707  성신여대입구(돈암)   65,933   71,709  2021-01-03 09:36:40\n",
       "601  2020-12  우이신설선  708          보문   33,909   34,610  2021-01-03 09:36:40\n",
       "602  2020-12  우이신설선  709         신설동   50,154   47,806  2021-01-03 09:36:40\n",
       "\n",
       "[603 rows x 7 columns]"
      ]
     },
     "execution_count": 42,
     "metadata": {},
     "output_type": "execute_result"
    }
   ],
   "source": [
    "df_2020_12_sub = pd.read_excel('Final_exam_Dataset/2020년 12월  교통카드 통계자료.xls',\n",
    "                              sheet_name = '지하철 노선별 역별 이용현황')\n",
    "df_2020_12_sub"
   ]
  },
  {
   "cell_type": "markdown",
   "metadata": {},
   "source": [
    "   + 전처리 방법은 1.절과 동일하나, 버스의 경우는 버스노선번호, 지하철의 경우는 호선명 별로 그룹화하여 피봇테이블로 나타낸다."
   ]
  },
  {
   "cell_type": "code",
   "execution_count": 58,
   "metadata": {},
   "outputs": [
    {
     "data": {
      "text/html": [
       "<div>\n",
       "<style scoped>\n",
       "    .dataframe tbody tr th:only-of-type {\n",
       "        vertical-align: middle;\n",
       "    }\n",
       "\n",
       "    .dataframe tbody tr th {\n",
       "        vertical-align: top;\n",
       "    }\n",
       "\n",
       "    .dataframe thead th {\n",
       "        text-align: right;\n",
       "    }\n",
       "</style>\n",
       "<table border=\"1\" class=\"dataframe\">\n",
       "  <thead>\n",
       "    <tr style=\"text-align: right;\">\n",
       "      <th></th>\n",
       "      <th>이용승객수</th>\n",
       "    </tr>\n",
       "    <tr>\n",
       "      <th>노선명</th>\n",
       "      <th></th>\n",
       "    </tr>\n",
       "  </thead>\n",
       "  <tbody>\n",
       "    <tr>\n",
       "      <th>0017번(청암동~이촌동)</th>\n",
       "      <td>244452</td>\n",
       "    </tr>\n",
       "    <tr>\n",
       "      <th>01A번(서울역환승센터~서울역환승센터)</th>\n",
       "      <td>27494</td>\n",
       "    </tr>\n",
       "    <tr>\n",
       "      <th>01B번(서울역환승센터~서울역환승센터)</th>\n",
       "      <td>27486</td>\n",
       "    </tr>\n",
       "    <tr>\n",
       "      <th>02번(남산서울타워~동대입구)</th>\n",
       "      <td>81777</td>\n",
       "    </tr>\n",
       "    <tr>\n",
       "      <th>03번(시청앞~시청앞)</th>\n",
       "      <td>3042</td>\n",
       "    </tr>\n",
       "    <tr>\n",
       "      <th>...</th>\n",
       "      <td>...</td>\n",
       "    </tr>\n",
       "    <tr>\n",
       "      <th>종로11(삼청공원~서울역)</th>\n",
       "      <td>91312</td>\n",
       "    </tr>\n",
       "    <tr>\n",
       "      <th>종로12(서울대학교병원~종로3가)</th>\n",
       "      <td>112827</td>\n",
       "    </tr>\n",
       "    <tr>\n",
       "      <th>종로13(평창파출소~부암동주민센터.무계원)</th>\n",
       "      <td>32455</td>\n",
       "    </tr>\n",
       "    <tr>\n",
       "      <th>중랑01(중화동동아약국~신이문역)</th>\n",
       "      <td>17562</td>\n",
       "    </tr>\n",
       "    <tr>\n",
       "      <th>중랑02(진로아파트~한신아파트)</th>\n",
       "      <td>241892</td>\n",
       "    </tr>\n",
       "  </tbody>\n",
       "</table>\n",
       "<p>636 rows × 1 columns</p>\n",
       "</div>"
      ],
      "text/plain": [
       "                          이용승객수\n",
       "노선명                            \n",
       "0017번(청암동~이촌동)           244452\n",
       "01A번(서울역환승센터~서울역환승센터)     27494\n",
       "01B번(서울역환승센터~서울역환승센터)     27486\n",
       "02번(남산서울타워~동대입구)          81777\n",
       "03번(시청앞~시청앞)               3042\n",
       "...                         ...\n",
       "종로11(삼청공원~서울역)            91312\n",
       "종로12(서울대학교병원~종로3가)       112827\n",
       "종로13(평창파출소~부암동주민센터.무계원)   32455\n",
       "중랑01(중화동동아약국~신이문역)        17562\n",
       "중랑02(진로아파트~한신아파트)        241892\n",
       "\n",
       "[636 rows x 1 columns]"
      ]
     },
     "execution_count": 58,
     "metadata": {},
     "output_type": "execute_result"
    }
   ],
   "source": [
    "for i in range(len(df_2020_12_bus)):\n",
    "    df_2020_12_bus['승차승객수'][i] = int(df_2020_12_bus['승차승객수'][i].replace(',',''))+int(df_2020_12_bus['하차승객수'][i].replace(',',''))\n",
    "df_2020_12_bus.rename(columns = {'승차승객수':'이용승객수'}, inplace = True)\n",
    "df_2020_12_bus = df_2020_12_bus[['노선명','이용승객수']]\n",
    "df_2020_12_bus = df_2020_12_bus.groupby(['노선명']).sum()\n",
    "df_2020_12_bus"
   ]
  },
  {
   "cell_type": "code",
   "execution_count": 46,
   "metadata": {},
   "outputs": [
    {
     "data": {
      "text/html": [
       "<div>\n",
       "<style scoped>\n",
       "    .dataframe tbody tr th:only-of-type {\n",
       "        vertical-align: middle;\n",
       "    }\n",
       "\n",
       "    .dataframe tbody tr th {\n",
       "        vertical-align: top;\n",
       "    }\n",
       "\n",
       "    .dataframe thead th {\n",
       "        text-align: right;\n",
       "    }\n",
       "</style>\n",
       "<table border=\"1\" class=\"dataframe\">\n",
       "  <thead>\n",
       "    <tr style=\"text-align: right;\">\n",
       "      <th></th>\n",
       "      <th>이용승객수</th>\n",
       "    </tr>\n",
       "    <tr>\n",
       "      <th>호선명</th>\n",
       "      <th></th>\n",
       "    </tr>\n",
       "  </thead>\n",
       "  <tbody>\n",
       "    <tr>\n",
       "      <th>1호선</th>\n",
       "      <td>8926440</td>\n",
       "    </tr>\n",
       "    <tr>\n",
       "      <th>2호선</th>\n",
       "      <td>54875739</td>\n",
       "    </tr>\n",
       "    <tr>\n",
       "      <th>3호선</th>\n",
       "      <td>20712663</td>\n",
       "    </tr>\n",
       "    <tr>\n",
       "      <th>4호선</th>\n",
       "      <td>20024184</td>\n",
       "    </tr>\n",
       "    <tr>\n",
       "      <th>5호선</th>\n",
       "      <td>25273422</td>\n",
       "    </tr>\n",
       "    <tr>\n",
       "      <th>6호선</th>\n",
       "      <td>13276067</td>\n",
       "    </tr>\n",
       "    <tr>\n",
       "      <th>7호선</th>\n",
       "      <td>29336684</td>\n",
       "    </tr>\n",
       "    <tr>\n",
       "      <th>8호선</th>\n",
       "      <td>8014909</td>\n",
       "    </tr>\n",
       "    <tr>\n",
       "      <th>9호선</th>\n",
       "      <td>10800846</td>\n",
       "    </tr>\n",
       "    <tr>\n",
       "      <th>9호선2~3단계</th>\n",
       "      <td>3637356</td>\n",
       "    </tr>\n",
       "    <tr>\n",
       "      <th>경강선</th>\n",
       "      <td>1128662</td>\n",
       "    </tr>\n",
       "    <tr>\n",
       "      <th>경부선</th>\n",
       "      <td>18024584</td>\n",
       "    </tr>\n",
       "    <tr>\n",
       "      <th>경원선</th>\n",
       "      <td>8157481</td>\n",
       "    </tr>\n",
       "    <tr>\n",
       "      <th>경의선</th>\n",
       "      <td>4211224</td>\n",
       "    </tr>\n",
       "    <tr>\n",
       "      <th>경인선</th>\n",
       "      <td>11958756</td>\n",
       "    </tr>\n",
       "    <tr>\n",
       "      <th>경춘선</th>\n",
       "      <td>1481545</td>\n",
       "    </tr>\n",
       "    <tr>\n",
       "      <th>공항철도 1호선</th>\n",
       "      <td>3592918</td>\n",
       "    </tr>\n",
       "    <tr>\n",
       "      <th>과천선</th>\n",
       "      <td>3896280</td>\n",
       "    </tr>\n",
       "    <tr>\n",
       "      <th>분당선</th>\n",
       "      <td>14819553</td>\n",
       "    </tr>\n",
       "    <tr>\n",
       "      <th>수인선</th>\n",
       "      <td>2272729</td>\n",
       "    </tr>\n",
       "    <tr>\n",
       "      <th>안산선</th>\n",
       "      <td>5010380</td>\n",
       "    </tr>\n",
       "    <tr>\n",
       "      <th>우이신설선</th>\n",
       "      <td>1851204</td>\n",
       "    </tr>\n",
       "    <tr>\n",
       "      <th>일산선</th>\n",
       "      <td>4344088</td>\n",
       "    </tr>\n",
       "    <tr>\n",
       "      <th>장항선</th>\n",
       "      <td>508879</td>\n",
       "    </tr>\n",
       "    <tr>\n",
       "      <th>중앙선</th>\n",
       "      <td>3652004</td>\n",
       "    </tr>\n",
       "  </tbody>\n",
       "</table>\n",
       "</div>"
      ],
      "text/plain": [
       "             이용승객수\n",
       "호선명               \n",
       "1호선        8926440\n",
       "2호선       54875739\n",
       "3호선       20712663\n",
       "4호선       20024184\n",
       "5호선       25273422\n",
       "6호선       13276067\n",
       "7호선       29336684\n",
       "8호선        8014909\n",
       "9호선       10800846\n",
       "9호선2~3단계   3637356\n",
       "경강선        1128662\n",
       "경부선       18024584\n",
       "경원선        8157481\n",
       "경의선        4211224\n",
       "경인선       11958756\n",
       "경춘선        1481545\n",
       "공항철도 1호선   3592918\n",
       "과천선        3896280\n",
       "분당선       14819553\n",
       "수인선        2272729\n",
       "안산선        5010380\n",
       "우이신설선      1851204\n",
       "일산선        4344088\n",
       "장항선         508879\n",
       "중앙선        3652004"
      ]
     },
     "execution_count": 46,
     "metadata": {},
     "output_type": "execute_result"
    }
   ],
   "source": [
    "for i in range(len(df_2020_12_sub)):\n",
    "    df_2020_12_sub['승차승객수'][i] = int(df_2020_12_sub['승차승객수'][i].replace(',',''))+int(df_2020_12_sub['하차승객수'][i].replace(',',''))\n",
    "df_2020_12_sub.rename(columns = {'승차승객수':'이용승객수'}, inplace = True)\n",
    "df_2020_12_sub = df_2020_12_sub[['호선명','이용승객수']]\n",
    "df_2020_12_sub = df_2020_12_sub.groupby(['호선명']).sum()\n",
    "df_2020_12_sub"
   ]
  },
  {
   "cell_type": "markdown",
   "metadata": {},
   "source": [
    "   + 마찬가지로 주요 버스 노선/지하철 호선은 이용승객수가 가장 많은 상위 10개의 버스 노선/지하철 호선으로 한다."
   ]
  },
  {
   "cell_type": "code",
   "execution_count": 59,
   "metadata": {},
   "outputs": [
    {
     "data": {
      "text/html": [
       "<div>\n",
       "<style scoped>\n",
       "    .dataframe tbody tr th:only-of-type {\n",
       "        vertical-align: middle;\n",
       "    }\n",
       "\n",
       "    .dataframe tbody tr th {\n",
       "        vertical-align: top;\n",
       "    }\n",
       "\n",
       "    .dataframe thead th {\n",
       "        text-align: right;\n",
       "    }\n",
       "</style>\n",
       "<table border=\"1\" class=\"dataframe\">\n",
       "  <thead>\n",
       "    <tr style=\"text-align: right;\">\n",
       "      <th></th>\n",
       "      <th>이용승객수</th>\n",
       "    </tr>\n",
       "    <tr>\n",
       "      <th>노선명</th>\n",
       "      <th></th>\n",
       "    </tr>\n",
       "  </thead>\n",
       "  <tbody>\n",
       "    <tr>\n",
       "      <th>143번(정릉~개포동)</th>\n",
       "      <td>1432630</td>\n",
       "    </tr>\n",
       "    <tr>\n",
       "      <th>152번(화계사~삼막사사거리)</th>\n",
       "      <td>1431924</td>\n",
       "    </tr>\n",
       "    <tr>\n",
       "      <th>160번(도봉산~온수동)</th>\n",
       "      <td>1392571</td>\n",
       "    </tr>\n",
       "    <tr>\n",
       "      <th>130번(우이동~길동)</th>\n",
       "      <td>1361218</td>\n",
       "    </tr>\n",
       "    <tr>\n",
       "      <th>303번(성남~신설동)</th>\n",
       "      <td>1276285</td>\n",
       "    </tr>\n",
       "    <tr>\n",
       "      <th>153번(우이동~당곡사거리)</th>\n",
       "      <td>1263838</td>\n",
       "    </tr>\n",
       "    <tr>\n",
       "      <th>272번(면목동~남가좌동)</th>\n",
       "      <td>1253421</td>\n",
       "    </tr>\n",
       "    <tr>\n",
       "      <th>146번(상계주공7단지~강남역)</th>\n",
       "      <td>1185358</td>\n",
       "    </tr>\n",
       "    <tr>\n",
       "      <th>147번(월계동~도곡동)</th>\n",
       "      <td>1158188</td>\n",
       "    </tr>\n",
       "    <tr>\n",
       "      <th>370번(강동공영차고지~충정로역)</th>\n",
       "      <td>1139957</td>\n",
       "    </tr>\n",
       "  </tbody>\n",
       "</table>\n",
       "</div>"
      ],
      "text/plain": [
       "                      이용승객수\n",
       "노선명                        \n",
       "143번(정릉~개포동)        1432630\n",
       "152번(화계사~삼막사사거리)    1431924\n",
       "160번(도봉산~온수동)       1392571\n",
       "130번(우이동~길동)        1361218\n",
       "303번(성남~신설동)        1276285\n",
       "153번(우이동~당곡사거리)     1263838\n",
       "272번(면목동~남가좌동)      1253421\n",
       "146번(상계주공7단지~강남역)   1185358\n",
       "147번(월계동~도곡동)       1158188\n",
       "370번(강동공영차고지~충정로역)  1139957"
      ]
     },
     "execution_count": 59,
     "metadata": {},
     "output_type": "execute_result"
    }
   ],
   "source": [
    "df_2020_12_bus = df_2020_12_bus.sort_values(by = '이용승객수', ascending = False)[:10]\n",
    "df_2020_12_bus"
   ]
  },
  {
   "cell_type": "code",
   "execution_count": 49,
   "metadata": {},
   "outputs": [
    {
     "data": {
      "text/html": [
       "<div>\n",
       "<style scoped>\n",
       "    .dataframe tbody tr th:only-of-type {\n",
       "        vertical-align: middle;\n",
       "    }\n",
       "\n",
       "    .dataframe tbody tr th {\n",
       "        vertical-align: top;\n",
       "    }\n",
       "\n",
       "    .dataframe thead th {\n",
       "        text-align: right;\n",
       "    }\n",
       "</style>\n",
       "<table border=\"1\" class=\"dataframe\">\n",
       "  <thead>\n",
       "    <tr style=\"text-align: right;\">\n",
       "      <th></th>\n",
       "      <th>이용승객수</th>\n",
       "    </tr>\n",
       "    <tr>\n",
       "      <th>호선명</th>\n",
       "      <th></th>\n",
       "    </tr>\n",
       "  </thead>\n",
       "  <tbody>\n",
       "    <tr>\n",
       "      <th>2호선</th>\n",
       "      <td>54875739</td>\n",
       "    </tr>\n",
       "    <tr>\n",
       "      <th>7호선</th>\n",
       "      <td>29336684</td>\n",
       "    </tr>\n",
       "    <tr>\n",
       "      <th>5호선</th>\n",
       "      <td>25273422</td>\n",
       "    </tr>\n",
       "    <tr>\n",
       "      <th>3호선</th>\n",
       "      <td>20712663</td>\n",
       "    </tr>\n",
       "    <tr>\n",
       "      <th>4호선</th>\n",
       "      <td>20024184</td>\n",
       "    </tr>\n",
       "    <tr>\n",
       "      <th>경부선</th>\n",
       "      <td>18024584</td>\n",
       "    </tr>\n",
       "    <tr>\n",
       "      <th>분당선</th>\n",
       "      <td>14819553</td>\n",
       "    </tr>\n",
       "    <tr>\n",
       "      <th>6호선</th>\n",
       "      <td>13276067</td>\n",
       "    </tr>\n",
       "    <tr>\n",
       "      <th>경인선</th>\n",
       "      <td>11958756</td>\n",
       "    </tr>\n",
       "    <tr>\n",
       "      <th>9호선</th>\n",
       "      <td>10800846</td>\n",
       "    </tr>\n",
       "  </tbody>\n",
       "</table>\n",
       "</div>"
      ],
      "text/plain": [
       "        이용승객수\n",
       "호선명          \n",
       "2호선  54875739\n",
       "7호선  29336684\n",
       "5호선  25273422\n",
       "3호선  20712663\n",
       "4호선  20024184\n",
       "경부선  18024584\n",
       "분당선  14819553\n",
       "6호선  13276067\n",
       "경인선  11958756\n",
       "9호선  10800846"
      ]
     },
     "execution_count": 49,
     "metadata": {},
     "output_type": "execute_result"
    }
   ],
   "source": [
    "df_2020_12_sub = df_2020_12_sub.sort_values(by = '이용승객수', ascending = False)[:10]\n",
    "df_2020_12_sub"
   ]
  },
  {
   "cell_type": "code",
   "execution_count": 61,
   "metadata": {},
   "outputs": [
    {
     "data": {
      "text/plain": [
       "[]"
      ]
     },
     "execution_count": 61,
     "metadata": {},
     "output_type": "execute_result"
    },
    {
     "data": {
      "image/png": "[encoded data removed]",
      "text/plain": [
       "<Figure size 1008x360 with 2 Axes>"
      ]
     },
     "metadata": {
      "needs_background": "light"
     },
     "output_type": "display_data"
    }
   ],
   "source": [
    "fix,ax = plt.subplots(1,2, figsize = (14,5))\n",
    "plt.suptitle('주요 버스 노선별 이용 현황')\n",
    "ax[0].barh(list(df_2020_12_bus.index) , df_2020_12_bus['이용승객수'])\n",
    "ax[1].pie(df_2020_12_bus['이용승객수'],\n",
    "         labels = list(df_2020_12_bus.index),\n",
    "         autopct = '%.1f%%',\n",
    "         explode = [0.1 for i in range(len(df_2020_12_bus))],\n",
    "         wedgeprops = {'width': 0.7, 'edgecolor' : 'black', 'linewidth': 1}\n",
    "         )\n",
    "plt.plot()"
   ]
  },
  {
   "cell_type": "code",
   "execution_count": 56,
   "metadata": {},
   "outputs": [
    {
     "data": {
      "text/plain": [
       "[]"
      ]
     },
     "execution_count": 56,
     "metadata": {},
     "output_type": "execute_result"
    },
    {
     "data": {
      "image/png": "[encoded data removed]",
      "text/plain": [
       "<Figure size 1008x360 with 2 Axes>"
      ]
     },
     "metadata": {
      "needs_background": "light"
     },
     "output_type": "display_data"
    }
   ],
   "source": [
    "fix,ax = plt.subplots(1,2, figsize = (14,5))\n",
    "plt.suptitle('주요 지하철 호선선별 이용 현황')\n",
    "ax[0].bar(list(df_2020_12_sub.index) , df_2020_12_sub['이용승객수'])\n",
    "ax[1].pie(df_2020_12_sub['이용승객수'],\n",
    "         labels = list(df_2020_12_sub.index),\n",
    "         autopct = '%.1f%%',\n",
    "         explode = [0.1 for i in range(len(df_2020_12_sub))],\n",
    "         wedgeprops = {'width': 0.7, 'edgecolor' : 'black', 'linewidth': 1}\n",
    "         )\n",
    "plt.plot()"
   ]
  },
  {
   "cell_type": "markdown",
   "metadata": {},
   "source": [
    "   + 버스는 정릉 ~ 개포동 구간을 운행하는 143번을 뒤이어 화계사 ~ 삼막사사거리를 있는 152번 버스가 뒤를 잇는 것을 볼 수 있고, 지하철은 서울 주요 지역(강남, 잠실 등)과 많은 대학교를 운행하는 2호선을 뒤이어 7호선, 5호선 순으로 뒤를 잇는 것을 볼 수 있다."
   ]
  },
  {
   "cell_type": "markdown",
   "metadata": {},
   "source": [
    "### 3. 코로나 전/후의 대중교통 이용량 변화\n",
    "   + 코로나 19(COVID-19)는 대한민국 인천국제공항에 2020년 1월 8일 첫 발생함으로써, 한국에 유행이 시작되었으므로, 분석 기간 중 코로나 전은 2019년 1월 이전인 2019년 1월 ~ 2019년 12월, 코로나 후는 2020년 1월 ~ 2020년 12월로 한다.\n",
    "   "
   ]
  },
  {
   "cell_type": "code",
   "execution_count": 6,
   "metadata": {},
   "outputs": [
    {
     "data": {
      "text/plain": [
       "[WindowsPath('Final_exam_Dataset/2019년 01월  교통카드 통계자료.xls'),\n",
       " WindowsPath('Final_exam_Dataset/2019년 02월  교통카드 통계자료.xls'),\n",
       " WindowsPath('Final_exam_Dataset/2019년 03월  교통카드 통계자료.xls'),\n",
       " WindowsPath('Final_exam_Dataset/2019년 04월  교통카드 통계자료.xls'),\n",
       " WindowsPath('Final_exam_Dataset/2019년 05월  교통카드 통계자료.xls'),\n",
       " WindowsPath('Final_exam_Dataset/2019년 06월  교통카드 통계자료.xls'),\n",
       " WindowsPath('Final_exam_Dataset/2019년 07월  교통카드 통계자료.xls'),\n",
       " WindowsPath('Final_exam_Dataset/2019년 08월  교통카드 통계자료.xls'),\n",
       " WindowsPath('Final_exam_Dataset/2019년 09월  교통카드 통계자료.xls'),\n",
       " WindowsPath('Final_exam_Dataset/2019년 10월  교통카드 통계자료.xls'),\n",
       " WindowsPath('Final_exam_Dataset/2019년 11월  교통카드 통계자료.xls'),\n",
       " WindowsPath('Final_exam_Dataset/2019년 12월  교통카드 통계자료.xls'),\n",
       " WindowsPath('Final_exam_Dataset/2020년 01월  교통카드 통계자료.xls'),\n",
       " WindowsPath('Final_exam_Dataset/2020년 02월  교통카드 통계자료.xls'),\n",
       " WindowsPath('Final_exam_Dataset/2020년 03월  교통카드 통계자료.xls'),\n",
       " WindowsPath('Final_exam_Dataset/2020년 04월  교통카드 통계자료.xls'),\n",
       " WindowsPath('Final_exam_Dataset/2020년 05월  교통카드 통계자료.xls'),\n",
       " WindowsPath('Final_exam_Dataset/2020년 06월  교통카드 통계자료.xls'),\n",
       " WindowsPath('Final_exam_Dataset/2020년 07월  교통카드 통계자료.xls'),\n",
       " WindowsPath('Final_exam_Dataset/2020년 08월  교통카드 통계자료.xls'),\n",
       " WindowsPath('Final_exam_Dataset/2020년 09월  교통카드 통계자료.xls'),\n",
       " WindowsPath('Final_exam_Dataset/2020년 10월  교통카드 통계자료.xls'),\n",
       " WindowsPath('Final_exam_Dataset/2020년 11월  교통카드 통계자료.xls'),\n",
       " WindowsPath('Final_exam_Dataset/2020년 12월  교통카드 통계자료.xls')]"
      ]
     },
     "execution_count": 6,
     "metadata": {},
     "output_type": "execute_result"
    }
   ],
   "source": [
    "dataset = [x for x in Path('./Final_exam_Dataset').glob(\"*.xls\")] ## 경로상의 xlsx 파일이름 저장\n",
    "dataset.sort()\n",
    "dataset"
   ]
  },
  {
   "cell_type": "markdown",
   "metadata": {},
   "source": [
    "   + 코로나 이전의 월별 버스 이용 이용승객수(ls_bus_before)와 코로나 이후 월별 버스 이용 승객수(ls_bus_after)를 각각 리스트로 구성하여 저장한다.\n",
    "   + 월별 이용 승객수는 해당 월의 승차승객수와 하차 승객수의 합이다. sum()함수를 쓰려고 했으나, 해당 컬럼의 자료형은 char이므로, 형변환을 통해 더해야 한다.\n",
    "   + dataset 객체에 파일명 기준으로 sort하였으므로, 읽히는 순서대로 2019년 1월 ~ 2020년 12월이다."
   ]
  },
  {
   "cell_type": "code",
   "execution_count": 13,
   "metadata": {},
   "outputs": [],
   "source": [
    "ls_bus_before = []\n",
    "ls_bus_after = []\n",
    "for i in range(len(dataset)):\n",
    "    user_sum = 0\n",
    "    df = pd.read_excel(dataset[i],\n",
    "                              sheet_name = '버스정류장별 이용현황')\n",
    "    for j in range(len(df)):\n",
    "            user_sum += int(df['승차승객수'][j].replace(',',''))+int(df['하차승객수'][j].replace(',',''))\n",
    "    if i<len(dataset)/2:\n",
    "        ls_bus_before.append(user_sum)\n",
    "    else:\n",
    "        ls_bus_after.append(user_sum)"
   ]
  },
  {
   "cell_type": "markdown",
   "metadata": {},
   "source": [
    "   + 코로나 이전의 버스 이용승객수와 이후의 버스 이용승객수를 그래프로 시각화 한다.\n",
    "   + 연속적인 시간이므로 위, 아래가 아닌 옆으로 길게 늘여 시각화한다.\n",
    "   + 옆으로 늘여 표현하기 위해 x축의 인덱스를 아래의 셀과 같이 리스트로 구성한다."
   ]
  },
  {
   "cell_type": "code",
   "execution_count": 16,
   "metadata": {},
   "outputs": [],
   "source": [
    "xindex_24 = []\n",
    "for i in range(24):\n",
    "    if i < 12:\n",
    "        xindex_24.append('19년 {}월'.format(i+1))\n",
    "    else:\n",
    "        xindex_24.append('20년 {}월'.format(i-11))"
   ]
  },
  {
   "cell_type": "code",
   "execution_count": 18,
   "metadata": {},
   "outputs": [
    {
     "data": {
      "text/plain": [
       "<matplotlib.legend.Legend at 0x20e825453d0>"
      ]
     },
     "execution_count": 18,
     "metadata": {},
     "output_type": "execute_result"
    },
    {
     "data": {
      "image/png": "[encoded data removed]",
      "text/plain": [
       "<Figure size 1080x576 with 1 Axes>"
      ]
     },
     "metadata": {
      "needs_background": "light"
     },
     "output_type": "display_data"
    }
   ],
   "source": [
    "plt.figure(figsize = (15,8))\n",
    "plt.title('코로나 이전과 이후의 버스 이용승객수의 변화')\n",
    "plt.plot(list(range(1,13)), ls_bus_before, 'bo-',label = '코로나 이전의 버스 이용승객수')\n",
    "plt.plot(list(range(13,25)), ls_bus_after, 'ro-',label = '코로나 이후의 버스 이용승객수')\n",
    "plt.xticks(list(range(1,25)),labels = xindex_24, rotation = 45)\n",
    "plt.xlabel('월')\n",
    "plt.ylabel('버스 이용승객수')\n",
    "plt.grid(True)\n",
    "plt.legend()"
   ]
  },
  {
   "cell_type": "markdown",
   "metadata": {},
   "source": [
    "   + 같은 월별마다의 코로나 이전과 이후의 이용승객수를 막대그래프로 시각화한다."
   ]
  },
  {
   "cell_type": "code",
   "execution_count": 81,
   "metadata": {},
   "outputs": [],
   "source": [
    "xindex_12 = []\n",
    "for i in range(12):\n",
    "    xindex_12.append('{}월'.format(i+1))"
   ]
  },
  {
   "cell_type": "code",
   "execution_count": 85,
   "metadata": {},
   "outputs": [
    {
     "data": {
      "text/plain": [
       "[]"
      ]
     },
     "execution_count": 85,
     "metadata": {},
     "output_type": "execute_result"
    },
    {
     "data": {
      "image/png": "[encoded data removed]",
      "text/plain": [
       "<Figure size 1080x360 with 1 Axes>"
      ]
     },
     "metadata": {
      "needs_background": "light"
     },
     "output_type": "display_data"
    }
   ],
   "source": [
    "x = np.arange(len(xindex_12))\n",
    "w = 0.4\n",
    "\n",
    "plt.figure(figsize = (15,5))\n",
    "plt.title('코로나 이전과 이후의 버스 이용승객수 변화')\n",
    "plt.xlabel('월')\n",
    "plt.ylabel('버스 이용승객수')\n",
    "plt.bar(x,ls_bus_before, color = 'blue', width = w, label = '코로나 이전의 버스 이용승객수')\n",
    "plt.bar(x+w,ls_bus_after, color = 'red', width = w, label = '코로나 이후의 버스 이용승객수')\n",
    "plt.legend(loc='best')\n",
    "\n",
    "plt.xticks(x+w/2,xindex_12)\n",
    "plt.plot()"
   ]
  },
  {
   "cell_type": "markdown",
   "metadata": {},
   "source": [
    "   + 지하철 총 이용승객수에 대하여도 동일한 과정을 통해 시각화 한다."
   ]
  },
  {
   "cell_type": "code",
   "execution_count": 19,
   "metadata": {},
   "outputs": [],
   "source": [
    "ls_sub_before = []\n",
    "ls_sub_after = []\n",
    "for i in range(len(dataset)):\n",
    "    user_sum = 0\n",
    "    df = pd.read_excel(dataset[i],\n",
    "                              sheet_name = '지하철 노선별 역별 이용현황')\n",
    "    for j in range(len(df)):\n",
    "            user_sum += int(df['승차승객수'][j].replace(',',''))+int(df['하차승객수'][j].replace(',',''))\n",
    "    if i<len(dataset)/2:\n",
    "        ls_sub_before.append(user_sum)\n",
    "    else:\n",
    "        ls_sub_after.append(user_sum)"
   ]
  },
  {
   "cell_type": "code",
   "execution_count": 20,
   "metadata": {},
   "outputs": [
    {
     "data": {
      "text/plain": [
       "<matplotlib.legend.Legend at 0x20e806cb850>"
      ]
     },
     "execution_count": 20,
     "metadata": {},
     "output_type": "execute_result"
    },
    {
     "data": {
      "image/png": "[encoded data removed]",
      "text/plain": [
       "<Figure size 1080x576 with 1 Axes>"
      ]
     },
     "metadata": {
      "needs_background": "light"
     },
     "output_type": "display_data"
    }
   ],
   "source": [
    "plt.figure(figsize = (15,8))\n",
    "plt.title('코로나 이전과 이후의 지하철 이용승객수의 변화')\n",
    "plt.plot(list(range(1,13)), ls_sub_before, 'bo-',label = '코로나 이전의 지하철 이용승객수')\n",
    "plt.plot(list(range(13,25)), ls_sub_after, 'ro-',label = '코로나 이후의 지하철 이용승객수')\n",
    "plt.xticks(list(range(1,25)),labels = xindex_24, rotation = 45)\n",
    "plt.xlabel('월')\n",
    "plt.ylabel('지하철 이용승객수')\n",
    "plt.grid(True)\n",
    "plt.legend()"
   ]
  },
  {
   "cell_type": "code",
   "execution_count": 88,
   "metadata": {},
   "outputs": [
    {
     "data": {
      "text/plain": [
       "[]"
      ]
     },
     "execution_count": 88,
     "metadata": {},
     "output_type": "execute_result"
    },
    {
     "data": {
      "image/png": "[encoded data removed]",
      "text/plain": [
       "<Figure size 1080x360 with 1 Axes>"
      ]
     },
     "metadata": {
      "needs_background": "light"
     },
     "output_type": "display_data"
    }
   ],
   "source": [
    "x = np.arange(len(xindex_12))\n",
    "w = 0.4\n",
    "\n",
    "plt.figure(figsize = (15,5))\n",
    "plt.title('코로나 이전과 이후의 지하철 이용승객수 변화')\n",
    "plt.xlabel('월')\n",
    "plt.ylabel('지하철 이용승객수')\n",
    "plt.bar(x,ls_sub_before, color = 'blue', width = w, label = '코로나 이전의 지하철 이용승객수')\n",
    "plt.bar(x+w,ls_sub_after, color = 'red', width = w, label = '코로나 이후의 지하철 이용승객수')\n",
    "plt.legend(loc='best')\n",
    "\n",
    "plt.xticks(x+w/2,xindex_12)\n",
    "plt.plot()"
   ]
  },
  {
   "cell_type": "markdown",
   "metadata": {},
   "source": [
    "   + 버스와 지하철 모두 월별로 유사한 형태의 그래프를 보여준다.\n",
    "   + 전체적으로 보았을때 버스와 지하철 모두 코로나 이전의 버스/지하철 이용 승객수보다 코로나 이후의 버스/지하철 이용 승객수가 적으며, 특히 2020년 1월~2020년 3월에 눈에띄게 감소했음을 확인할 수 있다.\n",
    "   + 코로나 이후의 버스/지하철 이용승객수는 이전 해의 같은 월에 대하여 12개월 모두 이용량이 적음을 알 수 있으며, 특히 3 ~ 12 월에 그 차이가 큼을 확인할 수 있다.\n",
    "   + 버스와 지하철 모두 월별로 유사한 형태의 그래프를 보여주었는데, 코로나 이전의 경우는 방학/휴가기간에 이용승객수가 감소한 후 이외의 기간에는 늘어나는 그래프를 볼 수 있지만, 코로나 이후는 이와 조금 다른 형태의 그래프를 보여주었다.\n",
    "   + 코로나 이후의 그래프 형태의 원인을 분석하기 위해 월별 코로나 확진자수와 코로나 이후의 버스/지하철 이용승객수 동향을 시각화한다.\n",
    "   + 월별 코로나 현황을 파악하기 위해 보건복지부에서 제공하는 일별 코로나 현황 데이터셋을 이용한다."
   ]
  },
  {
   "cell_type": "code",
   "execution_count": 150,
   "metadata": {},
   "outputs": [
    {
     "data": {
      "text/html": [
       "<div>\n",
       "<style scoped>\n",
       "    .dataframe tbody tr th:only-of-type {\n",
       "        vertical-align: middle;\n",
       "    }\n",
       "\n",
       "    .dataframe tbody tr th {\n",
       "        vertical-align: top;\n",
       "    }\n",
       "\n",
       "    .dataframe thead th {\n",
       "        text-align: right;\n",
       "    }\n",
       "</style>\n",
       "<table border=\"1\" class=\"dataframe\">\n",
       "  <thead>\n",
       "    <tr style=\"text-align: right;\">\n",
       "      <th></th>\n",
       "      <th>stateDt</th>\n",
       "      <th>decideCnt</th>\n",
       "    </tr>\n",
       "  </thead>\n",
       "  <tbody>\n",
       "    <tr>\n",
       "      <th>1</th>\n",
       "      <td>20200202</td>\n",
       "      <td>2.0</td>\n",
       "    </tr>\n",
       "    <tr>\n",
       "      <th>2</th>\n",
       "      <td>20200203</td>\n",
       "      <td>15.0</td>\n",
       "    </tr>\n",
       "    <tr>\n",
       "      <th>4</th>\n",
       "      <td>20200205</td>\n",
       "      <td>18.0</td>\n",
       "    </tr>\n",
       "    <tr>\n",
       "      <th>5</th>\n",
       "      <td>20200205</td>\n",
       "      <td>19.0</td>\n",
       "    </tr>\n",
       "    <tr>\n",
       "      <th>6</th>\n",
       "      <td>20200206</td>\n",
       "      <td>23.0</td>\n",
       "    </tr>\n",
       "    <tr>\n",
       "      <th>...</th>\n",
       "      <td>...</td>\n",
       "      <td>...</td>\n",
       "    </tr>\n",
       "    <tr>\n",
       "      <th>526</th>\n",
       "      <td>20210608</td>\n",
       "      <td>145091.0</td>\n",
       "    </tr>\n",
       "    <tr>\n",
       "      <th>527</th>\n",
       "      <td>20210609</td>\n",
       "      <td>145692.0</td>\n",
       "    </tr>\n",
       "    <tr>\n",
       "      <th>528</th>\n",
       "      <td>20210610</td>\n",
       "      <td>146303.0</td>\n",
       "    </tr>\n",
       "    <tr>\n",
       "      <th>529</th>\n",
       "      <td>20210611</td>\n",
       "      <td>146859.0</td>\n",
       "    </tr>\n",
       "    <tr>\n",
       "      <th>530</th>\n",
       "      <td>20210612</td>\n",
       "      <td>147422.0</td>\n",
       "    </tr>\n",
       "  </tbody>\n",
       "</table>\n",
       "<p>529 rows × 2 columns</p>\n",
       "</div>"
      ],
      "text/plain": [
       "      stateDt  decideCnt\n",
       "1    20200202        2.0\n",
       "2    20200203       15.0\n",
       "4    20200205       18.0\n",
       "5    20200205       19.0\n",
       "6    20200206       23.0\n",
       "..        ...        ...\n",
       "526  20210608   145091.0\n",
       "527  20210609   145692.0\n",
       "528  20210610   146303.0\n",
       "529  20210611   146859.0\n",
       "530  20210612   147422.0\n",
       "\n",
       "[529 rows x 2 columns]"
      ]
     },
     "execution_count": 150,
     "metadata": {},
     "output_type": "execute_result"
    }
   ],
   "source": [
    "sub_df = pd.read_csv('./Final_exam_Dataset/[보건복지부]일별 코로나 현황.csv')\n",
    "sub_df = sub_df[['stateDt','decideCnt']]\n",
    "sub_df = sub_df.dropna()\n",
    "sub_df ##[일, 누적 확진자수]"
   ]
  },
  {
   "cell_type": "markdown",
   "metadata": {},
   "source": [
    "   + 데이터 셋에는 1월의 데이터가 존재하지 않는다. 1월의 누적 확진자는 1월 31 기준 11명이다.\n",
    "   + 이후, 월별 확진자는 매월 마지막날 기준으로 이전 월의 마지막날을 감산하여 해당 월의 확진자 수를 구한다.\n",
    "   + 이를 코로나 이후의 버스/지하철 이용승객수 그래프와 겹처 그려서 월별 코로나 확진자 수와 이용 승객수의 동향을 파악한다."
   ]
  },
  {
   "cell_type": "code",
   "execution_count": 158,
   "metadata": {},
   "outputs": [],
   "source": [
    "ls_decide = [11]\n",
    "for i in range(1,len(sub_df)):\n",
    "    if sub_df.iloc[i][0] >= sub_df.iloc[i-1][0] + 10:\n",
    "        ls_decide.append(int(sub_df.iloc[i][1])-ls_decide[-1])\n",
    "    if sub_df.iloc[i][0] == 20210101.0:\n",
    "        break\n",
    "# ls_decide"
   ]
  },
  {
   "cell_type": "code",
   "execution_count": 161,
   "metadata": {},
   "outputs": [
    {
     "data": {
      "text/plain": [
       "<matplotlib.legend.Legend at 0x20e91612ac0>"
      ]
     },
     "execution_count": 161,
     "metadata": {},
     "output_type": "execute_result"
    },
    {
     "data": {
      "image/png": "[encoded data removed]",
      "text/plain": [
       "<Figure size 1080x720 with 1 Axes>"
      ]
     },
     "metadata": {
      "needs_background": "light"
     },
     "output_type": "display_data"
    }
   ],
   "source": [
    "plt.figure(figsize = (15,10))\n",
    "plt.title('코로나 이전과 이후의 버스 이용승객수의 변화')\n",
    "plt.bar(list(range(1,13)), ls_decide)\n",
    "plt.plot(list(range(1,13)), [x/5000 for x in ls_bus_after], 'ro-',label = '코로나 이후의 버스 이용승객수')\n",
    "plt.xticks(list(range(1,13)),labels = xindex_12, rotation = 45)\n",
    "plt.xlabel('월')\n",
    "plt.ylabel('지하철 이용승객수')\n",
    "plt.grid(True)\n",
    "plt.legend()"
   ]
  },
  {
   "cell_type": "code",
   "execution_count": 159,
   "metadata": {},
   "outputs": [
    {
     "data": {
      "text/plain": [
       "<matplotlib.legend.Legend at 0x20e967495e0>"
      ]
     },
     "execution_count": 159,
     "metadata": {},
     "output_type": "execute_result"
    },
    {
     "data": {
      "image/png": "[encoded data removed]",
      "text/plain": [
       "<Figure size 1080x720 with 1 Axes>"
      ]
     },
     "metadata": {
      "needs_background": "light"
     },
     "output_type": "display_data"
    }
   ],
   "source": [
    "plt.figure(figsize = (15,10))\n",
    "plt.title('코로나 이전과 이후의 지하철 이용승객수의 변화')\n",
    "plt.bar(list(range(1,13)), ls_decide)\n",
    "plt.plot(list(range(1,13)), [x/5000 for x in ls_sub_after], 'ro-',label = '코로나 이후의 지하철 이용승객수')\n",
    "plt.xticks(list(range(1,13)),labels = xindex_12, rotation = 45)\n",
    "plt.xlabel('월')\n",
    "plt.ylabel('지하철 이용승객수')\n",
    "plt.grid(True)\n",
    "plt.legend()"
   ]
  },
  {
   "cell_type": "markdown",
   "metadata": {},
   "source": [
    "   + 한 눈에 시각화 하기 위해 코로나 이후의 월별 버스, 지하철 이용승객수가 있는 리스트의 모든 값을 일정하게 나누어 주었다.\n",
    "   + 코로나 확진자가 계속해서 늘어나는 1~3월과 가장 많은 확진자 수가 나타난 12월에 버스와 지하철 모두 이용승객수가 급감함을 확인할 수 있다.\n",
    "   + "
   ]
  },
  {
   "cell_type": "code",
   "execution_count": 162,
   "metadata": {},
   "outputs": [
    {
     "data": {
      "text/plain": [
       "[<matplotlib.lines.Line2D at 0x20e9716bfd0>]"
      ]
     },
     "execution_count": 162,
     "metadata": {},
     "output_type": "execute_result"
    },
    {
     "data": {
      "image/png": "[encoded data removed]",
      "text/plain": [
       "<Figure size 432x288 with 1 Axes>"
      ]
     },
     "metadata": {
      "needs_background": "light"
     },
     "output_type": "display_data"
    }
   ],
   "source": [
    "plt.plot(ls_decide,ls_bus_after, 'o', color='red')"
   ]
  },
  {
   "cell_type": "code",
   "execution_count": 160,
   "metadata": {},
   "outputs": [
    {
     "data": {
      "text/plain": [
       "[]"
      ]
     },
     "execution_count": 160,
     "metadata": {},
     "output_type": "execute_result"
    },
    {
     "data": {
      "image/png": "[encoded data removed]",
      "text/plain": [
       "<Figure size 1008x360 with 2 Axes>"
      ]
     },
     "metadata": {
      "needs_background": "light"
     },
     "output_type": "display_data"
    }
   ],
   "source": [
    "bar_xaxis = ['코로나 이전', '코로나 이후']\n",
    "bar_color = ['blue','red']\n",
    "\n",
    "fix,ax = plt.subplots(1,2, figsize = (14,5))\n",
    "ax[0].bar(bar_xaxis, \n",
    "          [sum(ls_bus_before),sum(ls_bus_after)],\n",
    "          color = bar_color)\n",
    "ax[0].set_title('코로나 이전과 이후의 버스 이용승객수')\n",
    "ax[1].bar(bar_xaxis, \n",
    "          [sum(ls_sub_before),sum(ls_sub_after)],\n",
    "          color = bar_color)\n",
    "ax[1].set_title('코로나 이전과 이후의 지하철 이용승객수')\n",
    "plt.plot()"
   ]
  },
  {
   "cell_type": "markdown",
   "metadata": {},
   "source": [
    "   + 버스와 지하철 모두 코로나 이전에 비해 코로나 이후의 이용 승객수가 눈에 띄게 감소하였음을 알 수 있다."
   ]
  },
  {
   "cell_type": "markdown",
   "metadata": {},
   "source": [
    "### 4. 코로나 이후 이용승객수가 증가한 주요 정류장/역\n",
    "   + 코로나 이후 이용량이 증가한 정류장/역을 분석하기 위해 정류장/역 단위로 연합계를 계산하여 코로나 이전과 이후를 비교하여 시각화한다.\n",
    "   + 주요 정류장/역은 이용승객수의 비율이 가장 높게 증가한 상위 10개 정류장/역에 대하여 시각화 한다.\n",
    "   + 4.절에서는 이용량이 증가한 주요 정류장/역에 대해서만 시각화한다."
   ]
  },
  {
   "cell_type": "code",
   "execution_count": 23,
   "metadata": {
    "collapsed": true,
    "jupyter": {
     "outputs_hidden": true
    }
   },
   "outputs": [
    {
     "data": {
      "text/plain": [
       "[WindowsPath('Final_exam_Dataset/2019년 01월  교통카드 통계자료.xls'),\n",
       " WindowsPath('Final_exam_Dataset/2019년 02월  교통카드 통계자료.xls'),\n",
       " WindowsPath('Final_exam_Dataset/2019년 03월  교통카드 통계자료.xls'),\n",
       " WindowsPath('Final_exam_Dataset/2019년 04월  교통카드 통계자료.xls'),\n",
       " WindowsPath('Final_exam_Dataset/2019년 05월  교통카드 통계자료.xls'),\n",
       " WindowsPath('Final_exam_Dataset/2019년 06월  교통카드 통계자료.xls'),\n",
       " WindowsPath('Final_exam_Dataset/2019년 07월  교통카드 통계자료.xls'),\n",
       " WindowsPath('Final_exam_Dataset/2019년 08월  교통카드 통계자료.xls'),\n",
       " WindowsPath('Final_exam_Dataset/2019년 09월  교통카드 통계자료.xls'),\n",
       " WindowsPath('Final_exam_Dataset/2019년 10월  교통카드 통계자료.xls'),\n",
       " WindowsPath('Final_exam_Dataset/2019년 11월  교통카드 통계자료.xls'),\n",
       " WindowsPath('Final_exam_Dataset/2019년 12월  교통카드 통계자료.xls'),\n",
       " WindowsPath('Final_exam_Dataset/2020년 01월  교통카드 통계자료.xls'),\n",
       " WindowsPath('Final_exam_Dataset/2020년 02월  교통카드 통계자료.xls'),\n",
       " WindowsPath('Final_exam_Dataset/2020년 03월  교통카드 통계자료.xls'),\n",
       " WindowsPath('Final_exam_Dataset/2020년 04월  교통카드 통계자료.xls'),\n",
       " WindowsPath('Final_exam_Dataset/2020년 05월  교통카드 통계자료.xls'),\n",
       " WindowsPath('Final_exam_Dataset/2020년 06월  교통카드 통계자료.xls'),\n",
       " WindowsPath('Final_exam_Dataset/2020년 07월  교통카드 통계자료.xls'),\n",
       " WindowsPath('Final_exam_Dataset/2020년 08월  교통카드 통계자료.xls'),\n",
       " WindowsPath('Final_exam_Dataset/2020년 09월  교통카드 통계자료.xls'),\n",
       " WindowsPath('Final_exam_Dataset/2020년 10월  교통카드 통계자료.xls'),\n",
       " WindowsPath('Final_exam_Dataset/2020년 11월  교통카드 통계자료.xls'),\n",
       " WindowsPath('Final_exam_Dataset/2020년 12월  교통카드 통계자료.xls')]"
      ]
     },
     "execution_count": 23,
     "metadata": {},
     "output_type": "execute_result"
    }
   ],
   "source": [
    "dataset = [x for x in Path('./Final_exam_Dataset').glob(\"*.xls\")] ## 경로상의 xlsx 파일이름 저장\n",
    "dataset.sort()\n",
    "dataset"
   ]
  },
  {
   "cell_type": "markdown",
   "metadata": {},
   "source": [
    "   + 코로나 이전과 이후의 버스정류장별로 이용승객수를 도출한다."
   ]
  },
  {
   "cell_type": "code",
   "execution_count": 98,
   "metadata": {},
   "outputs": [],
   "source": [
    "df_bus_before = pd.DataFrame()\n",
    "df_bus_after = pd.DataFrame()\n",
    "for i in range(len(dataset)):\n",
    "    df = pd.read_excel(dataset[i],\n",
    "                       sheet_name = '버스정류장별 이용현황')\n",
    "    for j in range(len(df)):\n",
    "        df['승차승객수'][j] = int(df['승차승객수'][j].replace(',','')) + int(df['하차승객수'][j].replace(',',''))\n",
    "    df = df[['버스정류장명','승차승객수']]\n",
    "    df.rename(columns = {'승차승객수': '이용승객수'}, inplace = True)\n",
    "    if i<len(dataset)/2:\n",
    "        df_bus_before = pd.concat([df_bus_before,df])\n",
    "    else:\n",
    "        df_bus_after = pd.concat([df_bus_after,df])"
   ]
  },
  {
   "cell_type": "markdown",
   "metadata": {},
   "source": [
    "   + 코로나 이전과 이후의 각 데이터프레임을 노선명 기준으로 그룹화하여 피봇테이블로 나타낸다."
   ]
  },
  {
   "cell_type": "code",
   "execution_count": 99,
   "metadata": {},
   "outputs": [],
   "source": [
    "df_bus_before = df_bus_before.groupby(df['버스정류장명']).sum().drop('버스정류장명', axis = 1)\n",
    "df_bus_after = df_bus_after.groupby(df['버스정류장명']).sum().drop('버스정류장명', axis = 1)"
   ]
  },
  {
   "cell_type": "code",
   "execution_count": 117,
   "metadata": {},
   "outputs": [
    {
     "data": {
      "text/html": [
       "<div>\n",
       "<style scoped>\n",
       "    .dataframe tbody tr th:only-of-type {\n",
       "        vertical-align: middle;\n",
       "    }\n",
       "\n",
       "    .dataframe tbody tr th {\n",
       "        vertical-align: top;\n",
       "    }\n",
       "\n",
       "    .dataframe thead th {\n",
       "        text-align: right;\n",
       "    }\n",
       "</style>\n",
       "<table border=\"1\" class=\"dataframe\">\n",
       "  <thead>\n",
       "    <tr style=\"text-align: right;\">\n",
       "      <th></th>\n",
       "      <th>이용승객수</th>\n",
       "    </tr>\n",
       "    <tr>\n",
       "      <th>버스정류장명</th>\n",
       "      <th></th>\n",
       "    </tr>\n",
       "  </thead>\n",
       "  <tbody>\n",
       "    <tr>\n",
       "      <th>(구)법화사</th>\n",
       "      <td>100429</td>\n",
       "    </tr>\n",
       "    <tr>\n",
       "      <th>11단지</th>\n",
       "      <td>135562</td>\n",
       "    </tr>\n",
       "    <tr>\n",
       "      <th>123전자타운.2001아울렛</th>\n",
       "      <td>328588</td>\n",
       "    </tr>\n",
       "    <tr>\n",
       "      <th>12번지건영아파트</th>\n",
       "      <td>97546</td>\n",
       "    </tr>\n",
       "    <tr>\n",
       "      <th>13단지아파트입구</th>\n",
       "      <td>255422</td>\n",
       "    </tr>\n",
       "    <tr>\n",
       "      <th>...</th>\n",
       "      <td>...</td>\n",
       "    </tr>\n",
       "    <tr>\n",
       "      <th>힐스테이트송파.송파더센트레</th>\n",
       "      <td>172006</td>\n",
       "    </tr>\n",
       "    <tr>\n",
       "      <th>힐스테이트신촌.신촌푸르지오1단지후문</th>\n",
       "      <td>128512</td>\n",
       "    </tr>\n",
       "    <tr>\n",
       "      <th>힐스테이트입구</th>\n",
       "      <td>153754</td>\n",
       "    </tr>\n",
       "    <tr>\n",
       "      <th>힐탑</th>\n",
       "      <td>186255</td>\n",
       "    </tr>\n",
       "    <tr>\n",
       "      <th>힐튼호텔</th>\n",
       "      <td>678231</td>\n",
       "    </tr>\n",
       "  </tbody>\n",
       "</table>\n",
       "<p>7945 rows × 1 columns</p>\n",
       "</div>"
      ],
      "text/plain": [
       "                      이용승객수\n",
       "버스정류장명                     \n",
       "(구)법화사               100429\n",
       "11단지                 135562\n",
       "123전자타운.2001아울렛      328588\n",
       "12번지건영아파트             97546\n",
       "13단지아파트입구            255422\n",
       "...                     ...\n",
       "힐스테이트송파.송파더센트레       172006\n",
       "힐스테이트신촌.신촌푸르지오1단지후문  128512\n",
       "힐스테이트입구              153754\n",
       "힐탑                   186255\n",
       "힐튼호텔                 678231\n",
       "\n",
       "[7945 rows x 1 columns]"
      ]
     },
     "execution_count": 117,
     "metadata": {},
     "output_type": "execute_result"
    }
   ],
   "source": [
    "df_bus_before"
   ]
  },
  {
   "cell_type": "code",
   "execution_count": 118,
   "metadata": {},
   "outputs": [
    {
     "data": {
      "text/html": [
       "<div>\n",
       "<style scoped>\n",
       "    .dataframe tbody tr th:only-of-type {\n",
       "        vertical-align: middle;\n",
       "    }\n",
       "\n",
       "    .dataframe tbody tr th {\n",
       "        vertical-align: top;\n",
       "    }\n",
       "\n",
       "    .dataframe thead th {\n",
       "        text-align: right;\n",
       "    }\n",
       "</style>\n",
       "<table border=\"1\" class=\"dataframe\">\n",
       "  <thead>\n",
       "    <tr style=\"text-align: right;\">\n",
       "      <th></th>\n",
       "      <th>이용승객수</th>\n",
       "    </tr>\n",
       "    <tr>\n",
       "      <th>버스정류장명</th>\n",
       "      <th></th>\n",
       "    </tr>\n",
       "  </thead>\n",
       "  <tbody>\n",
       "    <tr>\n",
       "      <th>(구)법화사</th>\n",
       "      <td>146448</td>\n",
       "    </tr>\n",
       "    <tr>\n",
       "      <th>11단지</th>\n",
       "      <td>77095</td>\n",
       "    </tr>\n",
       "    <tr>\n",
       "      <th>123전자타운.2001아울렛</th>\n",
       "      <td>356064</td>\n",
       "    </tr>\n",
       "    <tr>\n",
       "      <th>12번지건영아파트</th>\n",
       "      <td>138479</td>\n",
       "    </tr>\n",
       "    <tr>\n",
       "      <th>13단지아파트입구</th>\n",
       "      <td>146234</td>\n",
       "    </tr>\n",
       "    <tr>\n",
       "      <th>...</th>\n",
       "      <td>...</td>\n",
       "    </tr>\n",
       "    <tr>\n",
       "      <th>힐스테이트송파.송파더센트레</th>\n",
       "      <td>153846</td>\n",
       "    </tr>\n",
       "    <tr>\n",
       "      <th>힐스테이트신촌.신촌푸르지오1단지후문</th>\n",
       "      <td>81687</td>\n",
       "    </tr>\n",
       "    <tr>\n",
       "      <th>힐스테이트입구</th>\n",
       "      <td>36002</td>\n",
       "    </tr>\n",
       "    <tr>\n",
       "      <th>힐탑</th>\n",
       "      <td>104530</td>\n",
       "    </tr>\n",
       "    <tr>\n",
       "      <th>힐튼호텔</th>\n",
       "      <td>327956</td>\n",
       "    </tr>\n",
       "  </tbody>\n",
       "</table>\n",
       "<p>7990 rows × 1 columns</p>\n",
       "</div>"
      ],
      "text/plain": [
       "                      이용승객수\n",
       "버스정류장명                     \n",
       "(구)법화사               146448\n",
       "11단지                  77095\n",
       "123전자타운.2001아울렛      356064\n",
       "12번지건영아파트            138479\n",
       "13단지아파트입구            146234\n",
       "...                     ...\n",
       "힐스테이트송파.송파더센트레       153846\n",
       "힐스테이트신촌.신촌푸르지오1단지후문   81687\n",
       "힐스테이트입구               36002\n",
       "힐탑                   104530\n",
       "힐튼호텔                 327956\n",
       "\n",
       "[7990 rows x 1 columns]"
      ]
     },
     "execution_count": 118,
     "metadata": {},
     "output_type": "execute_result"
    }
   ],
   "source": [
    "df_bus_after"
   ]
  },
  {
   "cell_type": "code",
   "execution_count": 73,
   "metadata": {},
   "outputs": [
    {
     "data": {
      "text/html": [
       "<div>\n",
       "<style scoped>\n",
       "    .dataframe tbody tr th:only-of-type {\n",
       "        vertical-align: middle;\n",
       "    }\n",
       "\n",
       "    .dataframe tbody tr th {\n",
       "        vertical-align: top;\n",
       "    }\n",
       "\n",
       "    .dataframe thead th {\n",
       "        text-align: right;\n",
       "    }\n",
       "</style>\n",
       "<table border=\"1\" class=\"dataframe\">\n",
       "  <thead>\n",
       "    <tr style=\"text-align: right;\">\n",
       "      <th></th>\n",
       "      <th>이용승객수</th>\n",
       "    </tr>\n",
       "    <tr>\n",
       "      <th>노선명</th>\n",
       "      <th></th>\n",
       "    </tr>\n",
       "  </thead>\n",
       "  <tbody>\n",
       "    <tr>\n",
       "      <th>0017번(청암동~이촌동)</th>\n",
       "      <td>377957</td>\n",
       "    </tr>\n",
       "    <tr>\n",
       "      <th>02번(남산서울타워~동대입구)</th>\n",
       "      <td>187514</td>\n",
       "    </tr>\n",
       "    <tr>\n",
       "      <th>03번(남산서울타워~남산서울타워)</th>\n",
       "      <td>100149</td>\n",
       "    </tr>\n",
       "    <tr>\n",
       "      <th>05번(남산서울타워~남산서울타워)</th>\n",
       "      <td>131835</td>\n",
       "    </tr>\n",
       "    <tr>\n",
       "      <th>100번(하계동~용산구청)</th>\n",
       "      <td>1180885</td>\n",
       "    </tr>\n",
       "    <tr>\n",
       "      <th>...</th>\n",
       "      <td>...</td>\n",
       "    </tr>\n",
       "    <tr>\n",
       "      <th>종로11(삼청공원~서울역)</th>\n",
       "      <td>211236</td>\n",
       "    </tr>\n",
       "    <tr>\n",
       "      <th>종로12(서울대학교병원~종로3가)</th>\n",
       "      <td>150797</td>\n",
       "    </tr>\n",
       "    <tr>\n",
       "      <th>종로13(평창파출소~부암동주민센터.무계원)</th>\n",
       "      <td>110588</td>\n",
       "    </tr>\n",
       "    <tr>\n",
       "      <th>중랑01(중화동동아약국~신이문역)</th>\n",
       "      <td>29877</td>\n",
       "    </tr>\n",
       "    <tr>\n",
       "      <th>중랑02(진로아파트~한신아파트)</th>\n",
       "      <td>438819</td>\n",
       "    </tr>\n",
       "  </tbody>\n",
       "</table>\n",
       "<p>626 rows × 1 columns</p>\n",
       "</div>"
      ],
      "text/plain": [
       "                           이용승객수\n",
       "노선명                             \n",
       "0017번(청암동~이촌동)            377957\n",
       "02번(남산서울타워~동대입구)          187514\n",
       "03번(남산서울타워~남산서울타워)        100149\n",
       "05번(남산서울타워~남산서울타워)        131835\n",
       "100번(하계동~용산구청)           1180885\n",
       "...                          ...\n",
       "종로11(삼청공원~서울역)            211236\n",
       "종로12(서울대학교병원~종로3가)        150797\n",
       "종로13(평창파출소~부암동주민센터.무계원)   110588\n",
       "중랑01(중화동동아약국~신이문역)         29877\n",
       "중랑02(진로아파트~한신아파트)         438819\n",
       "\n",
       "[626 rows x 1 columns]"
      ]
     },
     "execution_count": 73,
     "metadata": {},
     "output_type": "execute_result"
    }
   ],
   "source": [
    "df = pd.read_excel(dataset[4],\n",
    "                   sheet_name = '버스정류장별 이용현황')\n",
    "for j in range(len(df)):\n",
    "    df['승차승객수'][j] = int(df['승차승객수'][j].replace(',','')) + int(df['하차승객수'][j].replace(',',''))\n",
    "df = df[['노선명','승차승객수']]\n",
    "df.rename(columns = {'승차승객수': '이용승객수'}, inplace = True)\n",
    "df = df.groupby(df['노선명']).sum()\n",
    "df"
   ]
  },
  {
   "cell_type": "code",
   "execution_count": null,
   "metadata": {},
   "outputs": [],
   "source": []
  }
 ],
 "metadata": {
  "kernelspec": {
   "display_name": "Python 3",
   "language": "python",
   "name": "python3"
  },
  "language_info": {
   "codemirror_mode": {
    "name": "ipython",
    "version": 3
   },
   "file_extension": ".py",
   "mimetype": "text/x-python",
   "name": "python",
   "nbconvert_exporter": "python",
   "pygments_lexer": "ipython3",
   "version": "3.8.5"
  }
 },
 "nbformat": 4,
 "nbformat_minor": 4
}
