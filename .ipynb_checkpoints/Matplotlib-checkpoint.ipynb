{
 "cells": [
  {
   "cell_type": "markdown",
   "metadata": {},
   "source": [
    "## Matplotlib을 활용한 시각화\n",
    "- [CheetSheet](https://github.com/matplotlib/cheatsheets/blob/master/cheatsheets-1.png)\n",
    "\n",
    "### 데이터 시각화\n",
    " - 데이터를 시각화하면 단순히 숫자만 보아서 알 수 없었던 사실을 발견할 수 있고 데이터를 더 깊이 이해할 수 있습니다.\n",
    " - 데이터 분석 결과를 다른 사람들에게 보고할 때도 시각화가 중요합니다.\n",
    " \n",
    "### 데이터의 종류\n",
    " - 범주형 : 종류를 나타냄\n",
    " - 수치형 : 수치적 의미를 가짐\n",
    " - example : [iris](https://www.kaggle.com/vinayshaw/iris-species-100-accuracy-using-naive-bayes)\n",
    " \n",
    "### 그래프 요소\n",
    "![anatomy of a figure](https://matplotlib.org/stable/_images/anatomy.png)"
   ]
  },
  {
   "cell_type": "markdown",
   "metadata": {},
   "source": [
    "## 사용 준비"
   ]
  },
  {
   "cell_type": "code",
   "execution_count": 3,
   "metadata": {},
   "outputs": [],
   "source": [
    "#라이브러리 임포트\n",
    "import matplotlib as mpl\n",
    "import matplotlib.pyplot as plt"
   ]
  },
  {
   "cell_type": "markdown",
   "metadata": {},
   "source": [
    "## 막대그래프\n",
    "- 종류별로 개수를 셀 수 있는 경우, 범주형 자료의 분포를 시각화 할 때 사용\n",
    "  - 각 막대는 특정 범주(그룹), 막대의 높이는 범주별 집계한 데이터의 크기를 나타냄\n",
    "- bar 함수 이용"
   ]
  },
  {
   "cell_type": "code",
   "execution_count": 4,
   "metadata": {},
   "outputs": [
    {
     "data": {
      "text/plain": [
       "<BarContainer object of 3 artists>"
      ]
     },
     "execution_count": 4,
     "metadata": {},
     "output_type": "execute_result"
    },
    {
     "data": {
      "image/png": "[encoded data removed]",
      "text/plain": [
       "<Figure size 432x288 with 1 Axes>"
      ]
     },
     "metadata": {
      "needs_background": "light"
     },
     "output_type": "display_data"
    }
   ],
   "source": [
    "x = ['a','b','c']\n",
    "y = [10,1,4]\n",
    "\n",
    "plt.bar(x,y)"
   ]
  },
  {
   "cell_type": "code",
   "execution_count": 8,
   "metadata": {},
   "outputs": [
    {
     "data": {
      "text/plain": [
       "<BarContainer object of 3 artists>"
      ]
     },
     "execution_count": 8,
     "metadata": {},
     "output_type": "execute_result"
    },
    {
     "data": {
      "image/png": "[encoded data removed]",
      "text/plain": [
       "<Figure size 432x288 with 1 Axes>"
      ]
     },
     "metadata": {
      "needs_background": "light"
     },
     "output_type": "display_data"
    }
   ],
   "source": [
    "# 막대의 너비 지정\n",
    "plt.bar(x,y, width=0.5)"
   ]
  },
  {
   "cell_type": "code",
   "execution_count": 9,
   "metadata": {},
   "outputs": [
    {
     "data": {
      "text/plain": [
       "<BarContainer object of 3 artists>"
      ]
     },
     "execution_count": 9,
     "metadata": {},
     "output_type": "execute_result"
    },
    {
     "data": {
      "image/png": "[encoded data removed]",
      "text/plain": [
       "<Figure size 432x288 with 1 Axes>"
      ]
     },
     "metadata": {
      "needs_background": "light"
     },
     "output_type": "display_data"
    }
   ],
   "source": [
    "# 막대의 색 지정\n",
    "plt.bar(x,y, width=0.5, color='red')"
   ]
  },
  {
   "cell_type": "code",
   "execution_count": 11,
   "metadata": {},
   "outputs": [
    {
     "data": {
      "text/plain": [
       "Text(0, 0.5, 'Count')"
      ]
     },
     "execution_count": 11,
     "metadata": {},
     "output_type": "execute_result"
    },
    {
     "data": {
      "image/png": "[encoded data removed]",
      "text/plain": [
       "<Figure size 432x288 with 1 Axes>"
      ]
     },
     "metadata": {
      "needs_background": "light"
     },
     "output_type": "display_data"
    }
   ],
   "source": [
    "# 막대의 색 지정\n",
    "plt.bar(x,y, width=0.5, color='red')\n",
    "\n",
    "# 제목 설정\n",
    "plt.title('Title')\n",
    "\n",
    "# x, y축 레이블 설정\n",
    "plt.xlabel('Class')\n",
    "plt.ylabel('Count')"
   ]
  },
  {
   "cell_type": "code",
   "execution_count": 12,
   "metadata": {},
   "outputs": [
    {
     "data": {
      "text/plain": [
       "([<matplotlib.axis.XTick at 0x145cc3ef370>,\n",
       "  <matplotlib.axis.XTick at 0x145cc3ef340>,\n",
       "  <matplotlib.axis.XTick at 0x145cc3ec5e0>],\n",
       " [Text(0.0, 0, 'A'), Text(1.0, 0, 'B'), Text(2.0, 0, 'C')])"
      ]
     },
     "execution_count": 12,
     "metadata": {},
     "output_type": "execute_result"
    },
    {
     "data": {
      "image/png": "[encoded data removed]",
      "text/plain": [
       "<Figure size 432x288 with 1 Axes>"
      ]
     },
     "metadata": {
      "needs_background": "light"
     },
     "output_type": "display_data"
    }
   ],
   "source": [
    "# 막대의 색 지정\n",
    "plt.bar(x,y, width=0.5, color='red')\n",
    "\n",
    "# 제목 설정\n",
    "plt.title('bar plot')\n",
    "\n",
    "# x, y축 레이블 설정\n",
    "plt.xlabel('Class')\n",
    "plt.ylabel('Count')\n",
    "\n",
    "# 각 막대의 범주의 값 표기 변경\n",
    "plt.xticks(x,['A','B','C'])"
   ]
  },
  {
   "cell_type": "code",
   "execution_count": 13,
   "metadata": {},
   "outputs": [
    {
     "data": {
      "image/png": "[encoded data removed]",
      "text/plain": [
       "<Figure size 432x288 with 1 Axes>"
      ]
     },
     "metadata": {
      "needs_background": "light"
     },
     "output_type": "display_data"
    }
   ],
   "source": [
    "# 막대의 색 지정\n",
    "plt.bar(x,y, width=0.5, color='red')\n",
    "\n",
    "# 제목 설정\n",
    "plt.title('bar plot')\n",
    "\n",
    "# x, y축 레이블 설정\n",
    "plt.xlabel('Class')\n",
    "plt.ylabel('Count')\n",
    "\n",
    "# 각 막대의 범주의 값 표기 변경\n",
    "plt.xticks(x,['A','B','C'])\n",
    "\n",
    "# 그리드 표시\n",
    "plt.grid(True)"
   ]
  },
  {
   "cell_type": "code",
   "execution_count": 15,
   "metadata": {},
   "outputs": [
    {
     "data": {
      "text/plain": [
       "<BarContainer object of 3 artists>"
      ]
     },
     "execution_count": 15,
     "metadata": {},
     "output_type": "execute_result"
    },
    {
     "data": {
      "image/png": "[encoded data removed]",
      "text/plain": [
       "<Figure size 432x288 with 1 Axes>"
      ]
     },
     "metadata": {
      "needs_background": "light"
     },
     "output_type": "display_data"
    }
   ],
   "source": [
    "x = ['a','b','c']\n",
    "y = [10,1,4]\n",
    "\n",
    "# 가로형 막대\n",
    "plt.barh(x,y)"
   ]
  },
  {
   "cell_type": "code",
   "execution_count": 16,
   "metadata": {},
   "outputs": [
    {
     "data": {
      "text/plain": [
       "([<matplotlib.axis.YTick at 0x145cc492640>,\n",
       "  <matplotlib.axis.YTick at 0x145cc49efa0>,\n",
       "  <matplotlib.axis.YTick at 0x145cc32e970>],\n",
       " [Text(0, 0.0, 'A'), Text(0, 1.0, 'B'), Text(0, 2.0, 'C')])"
      ]
     },
     "execution_count": 16,
     "metadata": {},
     "output_type": "execute_result"
    },
    {
     "data": {
      "image/png": "[encoded data removed]",
      "text/plain": [
       "<Figure size 432x288 with 1 Axes>"
      ]
     },
     "metadata": {
      "needs_background": "light"
     },
     "output_type": "display_data"
    }
   ],
   "source": [
    "# 가로형 막대\n",
    "plt.barh(x,y)\n",
    "\n",
    "plt.xlabel('Count')\n",
    "plt.ylabel('Class')\n",
    "\n",
    "plt.yticks(x,['A','B','C'])"
   ]
  },
  {
   "cell_type": "code",
   "execution_count": 17,
   "metadata": {},
   "outputs": [
    {
     "data": {
      "image/png": "[encoded data removed]",
      "text/plain": [
       "<Figure size 432x288 with 1 Axes>"
      ]
     },
     "metadata": {
      "needs_background": "light"
     },
     "output_type": "display_data"
    }
   ],
   "source": [
    "# 이미지 저장\n",
    "fig = plt.figure()\n",
    "\n",
    "plt.barh(x,y)\n",
    "\n",
    "plt.xlabel('Count')\n",
    "plt.ylabel('Class')\n",
    "\n",
    "plt.yticks(x,['A','B','C'])\n",
    "\n",
    "fig.savefig('fig.png')"
   ]
  },
  {
   "cell_type": "markdown",
   "metadata": {},
   "source": [
    "### 연습문제 - 도수분포표 계산 후 막대그래프 그리기\n",
    "- 막대그래프를 그리기 위해서는 우선 그룹별 집계가 필요"
   ]
  },
  {
   "cell_type": "code",
   "execution_count": 19,
   "metadata": {},
   "outputs": [
    {
     "data": {
      "text/plain": [
       "<BarContainer object of 4 artists>"
      ]
     },
     "execution_count": 19,
     "metadata": {},
     "output_type": "execute_result"
    },
    {
     "data": {
      "image/png": "[encoded data removed]",
      "text/plain": [
       "<Figure size 432x288 with 1 Axes>"
      ]
     },
     "metadata": {
      "needs_background": "light"
     },
     "output_type": "display_data"
    }
   ],
   "source": [
    "import pandas as pd\n",
    "data = ['winter','summer','spring','summer','summer','fall','fall','summer','spring','spring']\n",
    "ds = pd.Series(data)\n",
    "ds = ds.value_counts()\n",
    "#ds\n",
    "plt.bar(ds.index,ds.values)"
   ]
  },
  {
   "cell_type": "code",
   "execution_count": 22,
   "metadata": {},
   "outputs": [
    {
     "data": {
      "text/plain": [
       "<BarContainer object of 3 artists>"
      ]
     },
     "execution_count": 22,
     "metadata": {},
     "output_type": "execute_result"
    },
    {
     "data": {
      "image/png": "[encoded data removed]",
      "text/plain": [
       "<Figure size 432x288 with 1 Axes>"
      ]
     },
     "metadata": {
      "needs_background": "light"
     },
     "output_type": "display_data"
    }
   ],
   "source": [
    "data = pd.read_csv('iris.csv')\n",
    "#data.head()\n",
    "ds = data['Species'].value_counts()\n",
    "#ds\n",
    "plt.bar(ds.index, ds.values)"
   ]
  },
  {
   "cell_type": "code",
   "execution_count": 23,
   "metadata": {},
   "outputs": [
    {
     "data": {
      "text/plain": [
       "<BarContainer object of 3 artists>"
      ]
     },
     "execution_count": 23,
     "metadata": {},
     "output_type": "execute_result"
    },
    {
     "data": {
      "image/png": "[encoded data removed]",
      "text/plain": [
       "<Figure size 432x288 with 1 Axes>"
      ]
     },
     "metadata": {
      "needs_background": "light"
     },
     "output_type": "display_data"
    }
   ],
   "source": [
    "ds = ds.sort_index()\n",
    "plt.bar(ds.index, ds.values)"
   ]
  },
  {
   "cell_type": "markdown",
   "metadata": {},
   "source": [
    "### 중첩 그룹의 막대그래프 그리기"
   ]
  },
  {
   "cell_type": "code",
   "execution_count": 25,
   "metadata": {},
   "outputs": [
    {
     "data": {
      "text/html": [
       "<div>\n",
       "<style scoped>\n",
       "    .dataframe tbody tr th:only-of-type {\n",
       "        vertical-align: middle;\n",
       "    }\n",
       "\n",
       "    .dataframe tbody tr th {\n",
       "        vertical-align: top;\n",
       "    }\n",
       "\n",
       "    .dataframe thead th {\n",
       "        text-align: right;\n",
       "    }\n",
       "</style>\n",
       "<table border=\"1\" class=\"dataframe\">\n",
       "  <thead>\n",
       "    <tr style=\"text-align: right;\">\n",
       "      <th></th>\n",
       "      <th>A</th>\n",
       "      <th>B</th>\n",
       "    </tr>\n",
       "  </thead>\n",
       "  <tbody>\n",
       "    <tr>\n",
       "      <th>summer</th>\n",
       "      <td>4</td>\n",
       "      <td>7</td>\n",
       "    </tr>\n",
       "    <tr>\n",
       "      <th>spring</th>\n",
       "      <td>3</td>\n",
       "      <td>4</td>\n",
       "    </tr>\n",
       "    <tr>\n",
       "      <th>fall</th>\n",
       "      <td>2</td>\n",
       "      <td>4</td>\n",
       "    </tr>\n",
       "    <tr>\n",
       "      <th>winter</th>\n",
       "      <td>1</td>\n",
       "      <td>2</td>\n",
       "    </tr>\n",
       "  </tbody>\n",
       "</table>\n",
       "</div>"
      ],
      "text/plain": [
       "        A  B\n",
       "summer  4  7\n",
       "spring  3  4\n",
       "fall    2  4\n",
       "winter  1  2"
      ]
     },
     "execution_count": 25,
     "metadata": {},
     "output_type": "execute_result"
    }
   ],
   "source": [
    "data1 = ['winter','summer','spring','summer','summer','fall','fall','summer','spring','spring']\n",
    "data2 = ['winter','summer','spring','summer','summer','fall','fall','summer','spring','spring',\n",
    "         'winter','summer','spring','summer','summer','fall','fall']\n",
    "ds1 = pd.Series(data1, name='A').value_counts()\n",
    "ds2 = pd.Series(data2, name='B').value_counts()\n",
    "\n",
    "ds = pd.merge(ds1, ds2, left_index=True, right_index=True)\n",
    "ds"
   ]
  },
  {
   "cell_type": "code",
   "execution_count": 26,
   "metadata": {},
   "outputs": [
    {
     "data": {
      "text/plain": [
       "<BarContainer object of 4 artists>"
      ]
     },
     "execution_count": 26,
     "metadata": {},
     "output_type": "execute_result"
    },
    {
     "data": {
      "image/png": "[encoded data removed]",
      "text/plain": [
       "<Figure size 432x288 with 1 Axes>"
      ]
     },
     "metadata": {
      "needs_background": "light"
     },
     "output_type": "display_data"
    }
   ],
   "source": [
    "#누적 막대 그래프\n",
    "plt.bar(ds.index,ds.values[:,0], color='blue')\n",
    "plt.bar(ds.index,ds.values[:,1], color='gray', bottom=ds.values[:,0])"
   ]
  },
  {
   "cell_type": "code",
   "execution_count": 29,
   "metadata": {},
   "outputs": [
    {
     "data": {
      "text/plain": [
       "([<matplotlib.axis.XTick at 0x145ce40c8b0>,\n",
       "  <matplotlib.axis.XTick at 0x145ce40c880>,\n",
       "  <matplotlib.axis.XTick at 0x145ce408430>,\n",
       "  <matplotlib.axis.XTick at 0x145ce442700>],\n",
       " [Text(0.2, 0, 'summer'),\n",
       "  Text(1.2, 0, 'spring'),\n",
       "  Text(2.2, 0, 'fall'),\n",
       "  Text(3.2, 0, 'winter')])"
      ]
     },
     "execution_count": 29,
     "metadata": {},
     "output_type": "execute_result"
    },
    {
     "data": {
      "image/png": "[encoded data removed]",
      "text/plain": [
       "<Figure size 432x288 with 1 Axes>"
      ]
     },
     "metadata": {
      "needs_background": "light"
     },
     "output_type": "display_data"
    }
   ],
   "source": [
    "#비교 막대 그래프\n",
    "import numpy as np\n",
    "\n",
    "x = np.arange(len(ds.index))\n",
    "w = 0.4\n",
    "\n",
    "plt.bar(x,ds.values[:,0], color='blue', width=w)\n",
    "plt.bar(x+w,ds.values[:,1], color='gray', width=w)\n",
    "\n",
    "plt.xticks(x+w/2,ds.index)"
   ]
  },
  {
   "cell_type": "code",
   "execution_count": 30,
   "metadata": {},
   "outputs": [
    {
     "data": {
      "text/plain": [
       "<matplotlib.legend.Legend at 0x145ce49d160>"
      ]
     },
     "execution_count": 30,
     "metadata": {},
     "output_type": "execute_result"
    },
    {
     "data": {
      "image/png": "[encoded data removed]",
      "text/plain": [
       "<Figure size 432x288 with 1 Axes>"
      ]
     },
     "metadata": {
      "needs_background": "light"
     },
     "output_type": "display_data"
    }
   ],
   "source": [
    "# 범례 추가하기\n",
    "x = np.arange(len(ds.index))\n",
    "w = 0.4\n",
    "\n",
    "plt.bar(x,ds.values[:,0], color='blue', width=w, label='Class A')\n",
    "plt.bar(x+w,ds.values[:,1], color='gray', width=w, label='Class B')\n",
    "\n",
    "plt.xticks(x+w/2,ds.index)\n",
    "\n",
    "plt.legend(loc='best')\n",
    "\n",
    "#Location String\tLocation Code\n",
    "#'best'\t0\n",
    "#'upper right'\t1\n",
    "#'upper left'\t2\n",
    "#'lower left'\t3\n",
    "#'lower right'\t4\n",
    "#'right'\t5\n",
    "#'center left'\t6\n",
    "#'center right'\t7\n",
    "#'lower center'\t8\n",
    "#'upper center'\t9\n",
    "#'center'\t10"
   ]
  },
  {
   "cell_type": "code",
   "execution_count": 33,
   "metadata": {},
   "outputs": [
    {
     "data": {
      "text/plain": [
       "<matplotlib.legend.Legend at 0x145ce5ed310>"
      ]
     },
     "execution_count": 33,
     "metadata": {},
     "output_type": "execute_result"
    },
    {
     "data": {
      "image/png": "[encoded data removed]",
      "text/plain": [
       "<Figure size 576x396 with 1 Axes>"
      ]
     },
     "metadata": {},
     "output_type": "display_data"
    }
   ],
   "source": [
    "# 스타일 변경하기\n",
    "plt.style.use('seaborn') #'seaborn', 'grayscale' ...\n",
    "\n",
    "plt.bar(x,ds.values[:,0], color='blue', width=w, label='Class A')\n",
    "plt.bar(x+w,ds.values[:,1], color='gray', width=w, label='Class B')\n",
    "\n",
    "plt.xticks(x+w/2,ds.index)\n",
    "\n",
    "plt.legend(loc='best')"
   ]
  },
  {
   "cell_type": "markdown",
   "metadata": {},
   "source": [
    "---\n",
    "## 히스토그램\n",
    "- 외관상 막대그래프와 비슷하지만, 수치형 자료의 분포를 시각화 할 때 사용\n",
    "- 수치형 자료는 범주가 없기 때문에 범주를 나누고 그 구간의 값을 셈"
   ]
  },
  {
   "cell_type": "code",
   "execution_count": 34,
   "metadata": {},
   "outputs": [
    {
     "data": {
      "text/html": [
       "<div>\n",
       "<style scoped>\n",
       "    .dataframe tbody tr th:only-of-type {\n",
       "        vertical-align: middle;\n",
       "    }\n",
       "\n",
       "    .dataframe tbody tr th {\n",
       "        vertical-align: top;\n",
       "    }\n",
       "\n",
       "    .dataframe thead th {\n",
       "        text-align: right;\n",
       "    }\n",
       "</style>\n",
       "<table border=\"1\" class=\"dataframe\">\n",
       "  <thead>\n",
       "    <tr style=\"text-align: right;\">\n",
       "      <th></th>\n",
       "      <th>Sepal.Length</th>\n",
       "      <th>Sepal.Width</th>\n",
       "      <th>Petal.Length</th>\n",
       "      <th>Petal.Width</th>\n",
       "      <th>Species</th>\n",
       "    </tr>\n",
       "  </thead>\n",
       "  <tbody>\n",
       "    <tr>\n",
       "      <th>0</th>\n",
       "      <td>5.1</td>\n",
       "      <td>3.5</td>\n",
       "      <td>1.4</td>\n",
       "      <td>0.2</td>\n",
       "      <td>setosa</td>\n",
       "    </tr>\n",
       "    <tr>\n",
       "      <th>1</th>\n",
       "      <td>4.9</td>\n",
       "      <td>3.0</td>\n",
       "      <td>1.4</td>\n",
       "      <td>0.2</td>\n",
       "      <td>setosa</td>\n",
       "    </tr>\n",
       "    <tr>\n",
       "      <th>2</th>\n",
       "      <td>4.7</td>\n",
       "      <td>3.2</td>\n",
       "      <td>1.3</td>\n",
       "      <td>0.2</td>\n",
       "      <td>setosa</td>\n",
       "    </tr>\n",
       "    <tr>\n",
       "      <th>3</th>\n",
       "      <td>4.6</td>\n",
       "      <td>3.1</td>\n",
       "      <td>1.5</td>\n",
       "      <td>0.2</td>\n",
       "      <td>setosa</td>\n",
       "    </tr>\n",
       "    <tr>\n",
       "      <th>4</th>\n",
       "      <td>5.0</td>\n",
       "      <td>3.6</td>\n",
       "      <td>1.4</td>\n",
       "      <td>0.2</td>\n",
       "      <td>setosa</td>\n",
       "    </tr>\n",
       "  </tbody>\n",
       "</table>\n",
       "</div>"
      ],
      "text/plain": [
       "   Sepal.Length  Sepal.Width  Petal.Length  Petal.Width Species\n",
       "0           5.1          3.5           1.4          0.2  setosa\n",
       "1           4.9          3.0           1.4          0.2  setosa\n",
       "2           4.7          3.2           1.3          0.2  setosa\n",
       "3           4.6          3.1           1.5          0.2  setosa\n",
       "4           5.0          3.6           1.4          0.2  setosa"
      ]
     },
     "execution_count": 34,
     "metadata": {},
     "output_type": "execute_result"
    }
   ],
   "source": [
    "ds = pd.read_csv('iris.csv')\n",
    "ds.head()"
   ]
  },
  {
   "cell_type": "code",
   "execution_count": 35,
   "metadata": {},
   "outputs": [
    {
     "data": {
      "text/plain": [
       "(array([ 9., 23., 14., 27., 16., 26., 18.,  6.,  5.,  6.]),\n",
       " array([4.3 , 4.66, 5.02, 5.38, 5.74, 6.1 , 6.46, 6.82, 7.18, 7.54, 7.9 ]),\n",
       " <BarContainer object of 10 artists>)"
      ]
     },
     "execution_count": 35,
     "metadata": {},
     "output_type": "execute_result"
    },
    {
     "data": {
      "image/png": "[encoded data removed]",
      "text/plain": [
       "<Figure size 576x396 with 1 Axes>"
      ]
     },
     "metadata": {},
     "output_type": "display_data"
    }
   ],
   "source": [
    "# histogram basic\n",
    "plt.hist(ds['Sepal.Length'])"
   ]
  },
  {
   "cell_type": "code",
   "execution_count": 36,
   "metadata": {},
   "outputs": [
    {
     "data": {
      "text/plain": [
       "(array([ 4.,  5.,  7., 16.,  9.,  5., 13., 14., 10.,  6., 10., 16.,  7.,\n",
       "        11.,  4.,  2.,  4.,  1.,  5.,  1.]),\n",
       " array([4.3 , 4.48, 4.66, 4.84, 5.02, 5.2 , 5.38, 5.56, 5.74, 5.92, 6.1 ,\n",
       "        6.28, 6.46, 6.64, 6.82, 7.  , 7.18, 7.36, 7.54, 7.72, 7.9 ]),\n",
       " <BarContainer object of 20 artists>)"
      ]
     },
     "execution_count": 36,
     "metadata": {},
     "output_type": "execute_result"
    },
    {
     "data": {
      "image/png": "[encoded data removed]",
      "text/plain": [
       "<Figure size 576x396 with 1 Axes>"
      ]
     },
     "metadata": {},
     "output_type": "display_data"
    }
   ],
   "source": [
    "# bin 개수 조정\n",
    "plt.hist(ds['Sepal.Length'], bins=20)"
   ]
  },
  {
   "cell_type": "code",
   "execution_count": 37,
   "metadata": {},
   "outputs": [
    {
     "data": {
      "text/plain": [
       "(array([ 4.,  5.,  7., 16.,  9.,  5., 13., 14., 10.,  6., 10., 16.,  7.,\n",
       "        11.,  4.,  2.,  4.,  1.,  5.,  1.]),\n",
       " array([4.3 , 4.48, 4.66, 4.84, 5.02, 5.2 , 5.38, 5.56, 5.74, 5.92, 6.1 ,\n",
       "        6.28, 6.46, 6.64, 6.82, 7.  , 7.18, 7.36, 7.54, 7.72, 7.9 ]),\n",
       " <BarContainer object of 20 artists>)"
      ]
     },
     "execution_count": 37,
     "metadata": {},
     "output_type": "execute_result"
    },
    {
     "data": {
      "image/png": "[encoded data removed]",
      "text/plain": [
       "<Figure size 576x396 with 1 Axes>"
      ]
     },
     "metadata": {},
     "output_type": "display_data"
    }
   ],
   "source": [
    "# edge\n",
    "plt.hist(ds['Sepal.Length'], bins=20, edgecolor='black')"
   ]
  },
  {
   "cell_type": "code",
   "execution_count": 38,
   "metadata": {},
   "outputs": [
    {
     "data": {
      "text/plain": [
       "(array([ 4.,  5.,  7., 16.,  9.,  5., 13., 14., 10.,  6., 10., 16.,  7.,\n",
       "        11.,  4.,  2.,  4.,  1.,  5.,  1.]),\n",
       " array([4.3 , 4.48, 4.66, 4.84, 5.02, 5.2 , 5.38, 5.56, 5.74, 5.92, 6.1 ,\n",
       "        6.28, 6.46, 6.64, 6.82, 7.  , 7.18, 7.36, 7.54, 7.72, 7.9 ]),\n",
       " <BarContainer object of 20 artists>)"
      ]
     },
     "execution_count": 38,
     "metadata": {},
     "output_type": "execute_result"
    },
    {
     "data": {
      "image/png": "[encoded data removed]",
      "text/plain": [
       "<Figure size 576x396 with 1 Axes>"
      ]
     },
     "metadata": {},
     "output_type": "display_data"
    }
   ],
   "source": [
    "# line width\n",
    "plt.hist(ds['Sepal.Length'], \n",
    "         bins=20, \n",
    "         edgecolor='black', \n",
    "         linewidth=1.2)"
   ]
  },
  {
   "cell_type": "code",
   "execution_count": 39,
   "metadata": {},
   "outputs": [
    {
     "data": {
      "text/plain": [
       "(array([ 4.,  5.,  7., 16.,  9.,  5., 13., 14., 10.,  6., 10., 16.,  7.,\n",
       "        11.,  4.,  2.,  4.,  1.,  5.,  1.]),\n",
       " array([4.3 , 4.48, 4.66, 4.84, 5.02, 5.2 , 5.38, 5.56, 5.74, 5.92, 6.1 ,\n",
       "        6.28, 6.46, 6.64, 6.82, 7.  , 7.18, 7.36, 7.54, 7.72, 7.9 ]),\n",
       " <BarContainer object of 20 artists>)"
      ]
     },
     "execution_count": 39,
     "metadata": {},
     "output_type": "execute_result"
    },
    {
     "data": {
      "image/png": "[encoded data removed]",
      "text/plain": [
       "<Figure size 576x396 with 1 Axes>"
      ]
     },
     "metadata": {},
     "output_type": "display_data"
    }
   ],
   "source": [
    "# Alpha\n",
    "plt.hist(ds['Sepal.Length'], \n",
    "         bins=20, \n",
    "         edgecolor='black', \n",
    "         linewidth=1.2,\n",
    "         alpha=0.5)"
   ]
  },
  {
   "cell_type": "code",
   "execution_count": 42,
   "metadata": {},
   "outputs": [
    {
     "data": {
      "text/plain": [
       "(array([ 4.,  5.,  7., 16.,  9.,  5., 13., 14., 10.,  6., 10., 16.,  7.,\n",
       "        11.,  4.,  2.,  4.,  1.,  5.,  1.]),\n",
       " array([4.3 , 4.48, 4.66, 4.84, 5.02, 5.2 , 5.38, 5.56, 5.74, 5.92, 6.1 ,\n",
       "        6.28, 6.46, 6.64, 6.82, 7.  , 7.18, 7.36, 7.54, 7.72, 7.9 ]),\n",
       " <BarContainer object of 20 artists>)"
      ]
     },
     "execution_count": 42,
     "metadata": {},
     "output_type": "execute_result"
    },
    {
     "data": {
      "image/png": "[encoded data removed]",
      "text/plain": [
       "<Figure size 576x396 with 1 Axes>"
      ]
     },
     "metadata": {},
     "output_type": "display_data"
    }
   ],
   "source": [
    "# histogram type\n",
    "plt.hist(ds['Sepal.Length'], \n",
    "         bins=20, \n",
    "         edgecolor='black', \n",
    "         linewidth=1.2,\n",
    "         histtype='bar') #stepfilled, bar, step"
   ]
  },
  {
   "cell_type": "code",
   "execution_count": 43,
   "metadata": {},
   "outputs": [
    {
     "data": {
      "text/plain": [
       "(array([0.14814815, 0.18518519, 0.25925926, 0.59259259, 0.33333333,\n",
       "        0.18518519, 0.48148148, 0.51851852, 0.37037037, 0.22222222,\n",
       "        0.37037037, 0.59259259, 0.25925926, 0.40740741, 0.14814815,\n",
       "        0.07407407, 0.14814815, 0.03703704, 0.18518519, 0.03703704]),\n",
       " array([4.3 , 4.48, 4.66, 4.84, 5.02, 5.2 , 5.38, 5.56, 5.74, 5.92, 6.1 ,\n",
       "        6.28, 6.46, 6.64, 6.82, 7.  , 7.18, 7.36, 7.54, 7.72, 7.9 ]),\n",
       " <BarContainer object of 20 artists>)"
      ]
     },
     "execution_count": 43,
     "metadata": {},
     "output_type": "execute_result"
    },
    {
     "data": {
      "image/png": "[encoded data removed]",
      "text/plain": [
       "<Figure size 576x396 with 1 Axes>"
      ]
     },
     "metadata": {},
     "output_type": "display_data"
    }
   ],
   "source": [
    "# density\n",
    "plt.hist(ds['Sepal.Length'], \n",
    "         bins=20, \n",
    "         edgecolor='black', \n",
    "         linewidth=1.2,\n",
    "         histtype='bar',\n",
    "         density=True)"
   ]
  },
  {
   "cell_type": "code",
   "execution_count": 44,
   "metadata": {},
   "outputs": [
    {
     "data": {
      "text/plain": [
       "<matplotlib.legend.Legend at 0x145cfab0850>"
      ]
     },
     "execution_count": 44,
     "metadata": {},
     "output_type": "execute_result"
    },
    {
     "data": {
      "image/png": "[encoded data removed]",
      "text/plain": [
       "<Figure size 576x396 with 1 Axes>"
      ]
     },
     "metadata": {},
     "output_type": "display_data"
    }
   ],
   "source": [
    "plt.hist(ds['Sepal.Length'], \n",
    "         bins=20, \n",
    "         edgecolor='black', \n",
    "         linewidth=1.2,\n",
    "         histtype='bar',\n",
    "         density=True,\n",
    "         color='#E9B9C9',\n",
    "         label='Sepal Length')\n",
    "\n",
    "plt.title('histogram')\n",
    "plt.xlabel('range')\n",
    "plt.ylabel('ratio')\n",
    "plt.legend()"
   ]
  },
  {
   "cell_type": "code",
   "execution_count": 45,
   "metadata": {},
   "outputs": [
    {
     "data": {
      "text/plain": [
       "<matplotlib.legend.Legend at 0x145cfb2d640>"
      ]
     },
     "execution_count": 45,
     "metadata": {},
     "output_type": "execute_result"
    },
    {
     "data": {
      "image/png": "[encoded data removed]",
      "text/plain": [
       "<Figure size 576x396 with 1 Axes>"
      ]
     },
     "metadata": {},
     "output_type": "display_data"
    }
   ],
   "source": [
    "# multiple histogram\n",
    "# **kwargs는 keyword arguments 를 받음 , packing\n",
    "kwargs = dict(bins=20, histtype='bar', alpha=0.3, density=True, edgecolor='black', linewidth=1.2)\n",
    "\n",
    "plt.hist(ds['Sepal.Length'], **kwargs, label='Sepal Length')\n",
    "plt.hist(ds['Sepal.Width'], **kwargs, label='Sepal Width')\n",
    "\n",
    "plt.title('histogram')\n",
    "plt.xlabel('range')\n",
    "plt.ylabel('ratio')\n",
    "plt.legend()"
   ]
  },
  {
   "cell_type": "code",
   "execution_count": 46,
   "metadata": {},
   "outputs": [
    {
     "data": {
      "text/plain": [
       "\u001b[1;31mSignature:\u001b[0m\n",
       "\u001b[0mplt\u001b[0m\u001b[1;33m.\u001b[0m\u001b[0mhist\u001b[0m\u001b[1;33m(\u001b[0m\u001b[1;33m\n",
       "\u001b[0m    \u001b[0mx\u001b[0m\u001b[1;33m,\u001b[0m\u001b[1;33m\n",
       "\u001b[0m    \u001b[0mbins\u001b[0m\u001b[1;33m=\u001b[0m\u001b[1;32mNone\u001b[0m\u001b[1;33m,\u001b[0m\u001b[1;33m\n",
       "\u001b[0m    \u001b[0mrange\u001b[0m\u001b[1;33m=\u001b[0m\u001b[1;32mNone\u001b[0m\u001b[1;33m,\u001b[0m\u001b[1;33m\n",
       "\u001b[0m    \u001b[0mdensity\u001b[0m\u001b[1;33m=\u001b[0m\u001b[1;32mFalse\u001b[0m\u001b[1;33m,\u001b[0m\u001b[1;33m\n",
       "\u001b[0m    \u001b[0mweights\u001b[0m\u001b[1;33m=\u001b[0m\u001b[1;32mNone\u001b[0m\u001b[1;33m,\u001b[0m\u001b[1;33m\n",
       "\u001b[0m    \u001b[0mcumulative\u001b[0m\u001b[1;33m=\u001b[0m\u001b[1;32mFalse\u001b[0m\u001b[1;33m,\u001b[0m\u001b[1;33m\n",
       "\u001b[0m    \u001b[0mbottom\u001b[0m\u001b[1;33m=\u001b[0m\u001b[1;32mNone\u001b[0m\u001b[1;33m,\u001b[0m\u001b[1;33m\n",
       "\u001b[0m    \u001b[0mhisttype\u001b[0m\u001b[1;33m=\u001b[0m\u001b[1;34m'bar'\u001b[0m\u001b[1;33m,\u001b[0m\u001b[1;33m\n",
       "\u001b[0m    \u001b[0malign\u001b[0m\u001b[1;33m=\u001b[0m\u001b[1;34m'mid'\u001b[0m\u001b[1;33m,\u001b[0m\u001b[1;33m\n",
       "\u001b[0m    \u001b[0morientation\u001b[0m\u001b[1;33m=\u001b[0m\u001b[1;34m'vertical'\u001b[0m\u001b[1;33m,\u001b[0m\u001b[1;33m\n",
       "\u001b[0m    \u001b[0mrwidth\u001b[0m\u001b[1;33m=\u001b[0m\u001b[1;32mNone\u001b[0m\u001b[1;33m,\u001b[0m\u001b[1;33m\n",
       "\u001b[0m    \u001b[0mlog\u001b[0m\u001b[1;33m=\u001b[0m\u001b[1;32mFalse\u001b[0m\u001b[1;33m,\u001b[0m\u001b[1;33m\n",
       "\u001b[0m    \u001b[0mcolor\u001b[0m\u001b[1;33m=\u001b[0m\u001b[1;32mNone\u001b[0m\u001b[1;33m,\u001b[0m\u001b[1;33m\n",
       "\u001b[0m    \u001b[0mlabel\u001b[0m\u001b[1;33m=\u001b[0m\u001b[1;32mNone\u001b[0m\u001b[1;33m,\u001b[0m\u001b[1;33m\n",
       "\u001b[0m    \u001b[0mstacked\u001b[0m\u001b[1;33m=\u001b[0m\u001b[1;32mFalse\u001b[0m\u001b[1;33m,\u001b[0m\u001b[1;33m\n",
       "\u001b[0m    \u001b[1;33m*\u001b[0m\u001b[1;33m,\u001b[0m\u001b[1;33m\n",
       "\u001b[0m    \u001b[0mdata\u001b[0m\u001b[1;33m=\u001b[0m\u001b[1;32mNone\u001b[0m\u001b[1;33m,\u001b[0m\u001b[1;33m\n",
       "\u001b[0m    \u001b[1;33m**\u001b[0m\u001b[0mkwargs\u001b[0m\u001b[1;33m,\u001b[0m\u001b[1;33m\n",
       "\u001b[0m\u001b[1;33m)\u001b[0m\u001b[1;33m\u001b[0m\u001b[1;33m\u001b[0m\u001b[0m\n",
       "\u001b[1;31mDocstring:\u001b[0m\n",
       "Plot a histogram.\n",
       "\n",
       "Compute and draw the histogram of *x*.  The return value is a tuple\n",
       "(*n*, *bins*, *patches*) or ([*n0*, *n1*, ...], *bins*, [*patches0*,\n",
       "*patches1*, ...]) if the input contains multiple data.  See the\n",
       "documentation of the *weights* parameter to draw a histogram of\n",
       "already-binned data.\n",
       "\n",
       "Multiple data can be provided via *x* as a list of datasets\n",
       "of potentially different length ([*x0*, *x1*, ...]), or as\n",
       "a 2-D ndarray in which each column is a dataset.  Note that\n",
       "the ndarray form is transposed relative to the list form.\n",
       "\n",
       "Masked arrays are not supported.\n",
       "\n",
       "The *bins*, *range*, *weights*, and *density* parameters behave as in\n",
       "`numpy.histogram`.\n",
       "\n",
       "Parameters\n",
       "----------\n",
       "x : (n,) array or sequence of (n,) arrays\n",
       "    Input values, this takes either a single array or a sequence of\n",
       "    arrays which are not required to be of the same length.\n",
       "\n",
       "bins : int or sequence or str, default: :rc:`hist.bins`\n",
       "    If *bins* is an integer, it defines the number of equal-width bins\n",
       "    in the range.\n",
       "\n",
       "    If *bins* is a sequence, it defines the bin edges, including the\n",
       "    left edge of the first bin and the right edge of the last bin;\n",
       "    in this case, bins may be unequally spaced.  All but the last\n",
       "    (righthand-most) bin is half-open.  In other words, if *bins* is::\n",
       "\n",
       "        [1, 2, 3, 4]\n",
       "\n",
       "    then the first bin is ``[1, 2)`` (including 1, but excluding 2) and\n",
       "    the second ``[2, 3)``.  The last bin, however, is ``[3, 4]``, which\n",
       "    *includes* 4.\n",
       "\n",
       "    If *bins* is a string, it is one of the binning strategies\n",
       "    supported by `numpy.histogram_bin_edges`: 'auto', 'fd', 'doane',\n",
       "    'scott', 'stone', 'rice', 'sturges', or 'sqrt'.\n",
       "\n",
       "range : tuple or None, default: None\n",
       "    The lower and upper range of the bins. Lower and upper outliers\n",
       "    are ignored. If not provided, *range* is ``(x.min(), x.max())``.\n",
       "    Range has no effect if *bins* is a sequence.\n",
       "\n",
       "    If *bins* is a sequence or *range* is specified, autoscaling\n",
       "    is based on the specified bin range instead of the\n",
       "    range of x.\n",
       "\n",
       "density : bool, default: False\n",
       "    If ``True``, draw and return a probability density: each bin\n",
       "    will display the bin's raw count divided by the total number of\n",
       "    counts *and the bin width*\n",
       "    (``density = counts / (sum(counts) * np.diff(bins))``),\n",
       "    so that the area under the histogram integrates to 1\n",
       "    (``np.sum(density * np.diff(bins)) == 1``).\n",
       "\n",
       "    If *stacked* is also ``True``, the sum of the histograms is\n",
       "    normalized to 1.\n",
       "\n",
       "weights : (n,) array-like or None, default: None\n",
       "    An array of weights, of the same shape as *x*.  Each value in\n",
       "    *x* only contributes its associated weight towards the bin count\n",
       "    (instead of 1).  If *density* is ``True``, the weights are\n",
       "    normalized, so that the integral of the density over the range\n",
       "    remains 1.\n",
       "\n",
       "    This parameter can be used to draw a histogram of data that has\n",
       "    already been binned, e.g. using `numpy.histogram` (by treating each\n",
       "    bin as a single point with a weight equal to its count) ::\n",
       "\n",
       "        counts, bins = np.histogram(data)\n",
       "        plt.hist(bins[:-1], bins, weights=counts)\n",
       "\n",
       "    (or you may alternatively use `~.bar()`).\n",
       "\n",
       "cumulative : bool or -1, default: False\n",
       "    If ``True``, then a histogram is computed where each bin gives the\n",
       "    counts in that bin plus all bins for smaller values. The last bin\n",
       "    gives the total number of datapoints.\n",
       "\n",
       "    If *density* is also ``True`` then the histogram is normalized such\n",
       "    that the last bin equals 1.\n",
       "\n",
       "    If *cumulative* is a number less than 0 (e.g., -1), the direction\n",
       "    of accumulation is reversed.  In this case, if *density* is also\n",
       "    ``True``, then the histogram is normalized such that the first bin\n",
       "    equals 1.\n",
       "\n",
       "bottom : array-like, scalar, or None, default: None\n",
       "    Location of the bottom of each bin, ie. bins are drawn from\n",
       "    ``bottom`` to ``bottom + hist(x, bins)`` If a scalar, the bottom\n",
       "    of each bin is shifted by the same amount. If an array, each bin\n",
       "    is shifted independently and the length of bottom must match the\n",
       "    number of bins. If None, defaults to 0.\n",
       "\n",
       "histtype : {'bar', 'barstacked', 'step', 'stepfilled'}, default: 'bar'\n",
       "    The type of histogram to draw.\n",
       "\n",
       "    - 'bar' is a traditional bar-type histogram.  If multiple data\n",
       "      are given the bars are arranged side by side.\n",
       "    - 'barstacked' is a bar-type histogram where multiple\n",
       "      data are stacked on top of each other.\n",
       "    - 'step' generates a lineplot that is by default unfilled.\n",
       "    - 'stepfilled' generates a lineplot that is by default filled.\n",
       "\n",
       "align : {'left', 'mid', 'right'}, default: 'mid'\n",
       "    The horizontal alignment of the histogram bars.\n",
       "\n",
       "    - 'left': bars are centered on the left bin edges.\n",
       "    - 'mid': bars are centered between the bin edges.\n",
       "    - 'right': bars are centered on the right bin edges.\n",
       "\n",
       "orientation : {'vertical', 'horizontal'}, default: 'vertical'\n",
       "    If 'horizontal', `~.Axes.barh` will be used for bar-type histograms\n",
       "    and the *bottom* kwarg will be the left edges.\n",
       "\n",
       "rwidth : float or None, default: None\n",
       "    The relative width of the bars as a fraction of the bin width.  If\n",
       "    ``None``, automatically compute the width.\n",
       "\n",
       "    Ignored if *histtype* is 'step' or 'stepfilled'.\n",
       "\n",
       "log : bool, default: False\n",
       "    If ``True``, the histogram axis will be set to a log scale. If\n",
       "    *log* is ``True`` and *x* is a 1D array, empty bins will be\n",
       "    filtered out and only the non-empty ``(n, bins, patches)``\n",
       "    will be returned.\n",
       "\n",
       "color : color or array-like of colors or None, default: None\n",
       "    Color or sequence of colors, one per dataset.  Default (``None``)\n",
       "    uses the standard line color sequence.\n",
       "\n",
       "label : str or None, default: None\n",
       "    String, or sequence of strings to match multiple datasets.  Bar\n",
       "    charts yield multiple patches per dataset, but only the first gets\n",
       "    the label, so that `~.Axes.legend` will work as expected.\n",
       "\n",
       "stacked : bool, default: False\n",
       "    If ``True``, multiple data are stacked on top of each other If\n",
       "    ``False`` multiple data are arranged side by side if histtype is\n",
       "    'bar' or on top of each other if histtype is 'step'\n",
       "\n",
       "Returns\n",
       "-------\n",
       "n : array or list of arrays\n",
       "    The values of the histogram bins. See *density* and *weights* for a\n",
       "    description of the possible semantics.  If input *x* is an array,\n",
       "    then this is an array of length *nbins*. If input is a sequence of\n",
       "    arrays ``[data1, data2, ...]``, then this is a list of arrays with\n",
       "    the values of the histograms for each of the arrays in the same\n",
       "    order.  The dtype of the array *n* (or of its element arrays) will\n",
       "    always be float even if no weighting or normalization is used.\n",
       "\n",
       "bins : array\n",
       "    The edges of the bins. Length nbins + 1 (nbins left edges and right\n",
       "    edge of last bin).  Always a single array even when multiple data\n",
       "    sets are passed in.\n",
       "\n",
       "patches : `.BarContainer` or list of a single `.Polygon` or list of such objects\n",
       "    Container of individual artists used to create the histogram\n",
       "    or list of such containers if there are multiple input datasets.\n",
       "\n",
       "Other Parameters\n",
       "----------------\n",
       "**kwargs\n",
       "    `~matplotlib.patches.Patch` properties\n",
       "\n",
       "See Also\n",
       "--------\n",
       "hist2d : 2D histograms\n",
       "\n",
       "Notes\n",
       "-----\n",
       "For large numbers of bins (>1000), 'step' and 'stepfilled' can be\n",
       "significantly faster than 'bar' and 'barstacked'.\n",
       "\n",
       ".. note::\n",
       "    In addition to the above described arguments, this function can take\n",
       "    a *data* keyword argument. If such a *data* argument is given,\n",
       "    the following arguments can also be string ``s``, which is\n",
       "    interpreted as ``data[s]`` (unless this raises an exception):\n",
       "    *x*, *weights*.\n",
       "\n",
       "    Objects passed as **data** must support item access (``data[s]``) and\n",
       "    membership test (``s in data``).\n",
       "\u001b[1;31mFile:\u001b[0m      c:\\programdata\\anaconda3\\lib\\site-packages\\matplotlib\\pyplot.py\n",
       "\u001b[1;31mType:\u001b[0m      function\n"
      ]
     },
     "metadata": {},
     "output_type": "display_data"
    }
   ],
   "source": [
    "?plt.hist"
   ]
  },
  {
   "cell_type": "markdown",
   "metadata": {},
   "source": [
    "[**kwargs](https://matplotlib.org/stable/api/_as_gen/matplotlib.patches.Patch.html#matplotlib.patches.Patch)"
   ]
  },
  {
   "cell_type": "markdown",
   "metadata": {},
   "source": [
    "---\n",
    "## 다중 그래프\n",
    "- subplots\n",
    "- matplotlib로 그래프를 그리려면 Figure 객체와 하나 이상의 subplot(Axes) 객체가 필요\n",
    "  - figure 객체\n",
    "  - axes 객체\n",
    "\n",
    "![fig1](https://wikidocs.net/images/page/4763/r15.10.png)"
   ]
  },
  {
   "cell_type": "code",
   "execution_count": 47,
   "metadata": {},
   "outputs": [
    {
     "data": {
      "image/png": "[encoded data removed]",
      "text/plain": [
       "<Figure size 576x396 with 6 Axes>"
      ]
     },
     "metadata": {},
     "output_type": "display_data"
    }
   ],
   "source": [
    "fig, ax = plt.subplots(2,3)"
   ]
  },
  {
   "cell_type": "code",
   "execution_count": 48,
   "metadata": {},
   "outputs": [
    {
     "data": {
      "image/png": "[encoded data removed]",
      "text/plain": [
       "<Figure size 576x396 with 6 Axes>"
      ]
     },
     "metadata": {},
     "output_type": "display_data"
    }
   ],
   "source": [
    "fig, ax = plt.subplots(2,3, sharex='col', sharey='row')"
   ]
  },
  {
   "cell_type": "code",
   "execution_count": 49,
   "metadata": {},
   "outputs": [
    {
     "data": {
      "image/png": "[encoded data removed]",
      "text/plain": [
       "<Figure size 576x396 with 6 Axes>"
      ]
     },
     "execution_count": 49,
     "metadata": {},
     "output_type": "execute_result"
    }
   ],
   "source": [
    "for i in range(2):\n",
    "    for j in range(3):\n",
    "        ax[i,j].text(0.5,0.5,str((i,j)), fontsize=20, ha='center')\n",
    "fig"
   ]
  },
  {
   "cell_type": "code",
   "execution_count": 50,
   "metadata": {},
   "outputs": [
    {
     "data": {
      "text/plain": [
       "Text(0.5, 1.0, 'title 3')"
      ]
     },
     "execution_count": 50,
     "metadata": {},
     "output_type": "execute_result"
    },
    {
     "data": {
      "image/png": "[encoded data removed]",
      "text/plain": [
       "<Figure size 576x396 with 3 Axes>"
      ]
     },
     "metadata": {},
     "output_type": "display_data"
    }
   ],
   "source": [
    "fig, ax = plt.subplots(1,3, sharex='col', sharey='row')\n",
    "kwargs = dict(bins=20, histtype='bar', alpha=0.3, density=True, edgecolor='black', linewidth=1.2)\n",
    "ax[0].hist(ds['Sepal.Width'],**kwargs, label='Sepal Width')\n",
    "ax[1].hist(ds['Sepal.Length'], **kwargs, color='violet', label='Sepal Length')\n",
    "ax[2].bar(ds['Species'].value_counts().index, ds['Species'].value_counts().values/ds['Species'].value_counts().values.sum())\n",
    "\n",
    "ax[0].set_title('title 1')\n",
    "ax[1].set_title('title 2')\n",
    "ax[2].set_title('title 3')"
   ]
  }
 ],
 "metadata": {
  "kernelspec": {
   "display_name": "Python 3",
   "language": "python",
   "name": "python3"
  },
  "language_info": {
   "codemirror_mode": {
    "name": "ipython",
    "version": 3
   },
   "file_extension": ".py",
   "mimetype": "text/x-python",
   "name": "python",
   "nbconvert_exporter": "python",
   "pygments_lexer": "ipython3",
   "version": "3.8.5"
  }
 },
 "nbformat": 4,
 "nbformat_minor": 4
}
