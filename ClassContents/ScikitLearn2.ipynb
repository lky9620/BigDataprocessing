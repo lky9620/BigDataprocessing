{
 "cells": [
  {
   "cell_type": "markdown",
   "metadata": {},
   "source": [
    "## Example\n",
    "breast_cancer 데이터와 SVM 알고리즘을 이용해 예측모델 만들기"
   ]
  },
  {
   "cell_type": "code",
   "execution_count": 122,
   "metadata": {},
   "outputs": [],
   "source": [
    "import numpy as np\n",
    "import pandas as pd\n",
    "from sklearn.datasets import load_breast_cancer # 사용할 데이터셋\n",
    "from sklearn.svm import SVC # 사용할 알고리즘\n",
    "from sklearn.model_selection import train_test_split # 데이터 분할"
   ]
  },
  {
   "cell_type": "markdown",
   "metadata": {},
   "source": [
    "### 데이터 불러오기"
   ]
  },
  {
   "cell_type": "code",
   "execution_count": 123,
   "metadata": {},
   "outputs": [
    {
     "name": "stdout",
     "output_type": "stream",
     "text": [
      "(569, 30) (569,)\n"
     ]
    }
   ],
   "source": [
    "cancer = load_breast_cancer()\n",
    "print(cancer.data.shape, cancer.target.shape)"
   ]
  },
  {
   "cell_type": "code",
   "execution_count": 128,
   "metadata": {},
   "outputs": [
    {
     "data": {
      "text/plain": [
       "array(['malignant', 'benign'], dtype='<U9')"
      ]
     },
     "execution_count": 128,
     "metadata": {},
     "output_type": "execute_result"
    }
   ],
   "source": [
    "cancer"
   ]
  },
  {
   "cell_type": "code",
   "execution_count": 129,
   "metadata": {},
   "outputs": [
    {
     "data": {
      "text/plain": [
       "1    357\n",
       "0    212\n",
       "dtype: int64"
      ]
     },
     "execution_count": 129,
     "metadata": {},
     "output_type": "execute_result"
    }
   ],
   "source": [
    "pd.value_counts(cancer['target']) # 0 : Malignant, 1 : Benign"
   ]
  },
  {
   "cell_type": "markdown",
   "metadata": {},
   "source": [
    "### 데이터 분할하기 : train, test"
   ]
  },
  {
   "cell_type": "code",
   "execution_count": 130,
   "metadata": {},
   "outputs": [
    {
     "name": "stdout",
     "output_type": "stream",
     "text": [
      "(455, 30) (455,) (114, 30) (114,)\n"
     ]
    }
   ],
   "source": [
    "X_train, X_test, y_train, y_test = train_test_split(cancer.data,\n",
    "                                                    cancer.target,\n",
    "                                                    train_size = 0.8,\n",
    "                                                    stratify = cancer.target,\n",
    "                                                    random_state = 1234)\n",
    "\n",
    "print(X_train.shape, y_train.shape, X_test.shape, y_test.shape)"
   ]
  },
  {
   "cell_type": "markdown",
   "metadata": {},
   "source": [
    "### 데이터 분할 : train, validation set"
   ]
  },
  {
   "cell_type": "code",
   "execution_count": 131,
   "metadata": {},
   "outputs": [
    {
     "name": "stdout",
     "output_type": "stream",
     "text": [
      "(341, 30) (341,) (114, 30) (114,)\n"
     ]
    }
   ],
   "source": [
    "X_train_d, X_validation, y_train_d, y_validation = train_test_split(X_train,\n",
    "                                                                y_train,\n",
    "                                                                test_size = 114,\n",
    "                                                                stratify = y_train,\n",
    "                                                                random_state = 321)\n",
    "\n",
    "print(X_train_d.shape, y_train_d.shape, X_validation.shape, y_validation.shape)"
   ]
  },
  {
   "cell_type": "markdown",
   "metadata": {},
   "source": [
    "### 모델 구축 (1)\n",
    "- Learn Algorithm = SVM\n",
    "- Hyper-parameters = gamma, C\n",
    "- Hold out"
   ]
  },
  {
   "cell_type": "code",
   "execution_count": 132,
   "metadata": {},
   "outputs": [
    {
     "data": {
      "text/plain": [
       "array([1.e-03, 1.e-02, 1.e-01, 1.e+00, 1.e+01, 1.e+02])"
      ]
     },
     "execution_count": 132,
     "metadata": {},
     "output_type": "execute_result"
    }
   ],
   "source": [
    "np.logspace(-3,2,num=6)"
   ]
  },
  {
   "cell_type": "code",
   "execution_count": 133,
   "metadata": {},
   "outputs": [
    {
     "name": "stdout",
     "output_type": "stream",
     "text": [
      "(0.001, 1.0) 0.9385964912280702\n"
     ]
    }
   ],
   "source": [
    "scores = {}\n",
    "# grid search 6 * 6\n",
    "for gamma in np.logspace(-3,2,num=6) : \n",
    "    for C in np.logspace(-3,2,num=6) :\n",
    "        model = SVC(gamma=gamma, C=C)\n",
    "        model.fit(X_train_d,y_train_d)\n",
    "        scores[(gamma,C)] = model.score(X_validation, y_validation)\n",
    "\n",
    "scores = pd.Series(scores)\n",
    "print(scores.idxmax(), scores.max())\n",
    "#print(np.logspace(-3,2,num=6))"
   ]
  },
  {
   "cell_type": "code",
   "execution_count": 134,
   "metadata": {},
   "outputs": [],
   "source": [
    "# 최종 모델 선택\n",
    "gamma = 0.001\n",
    "C = 1.0\n",
    "model = SVC(gamma=gamma, C=C)"
   ]
  },
  {
   "cell_type": "code",
   "execution_count": 136,
   "metadata": {},
   "outputs": [
    {
     "data": {
      "text/plain": [
       "0.9473684210526315"
      ]
     },
     "execution_count": 136,
     "metadata": {},
     "output_type": "execute_result"
    }
   ],
   "source": [
    "# 최종 모델 평가, test set 이용\n",
    "model.fit(X_train,y_train)\n",
    "#yfit = model.predict(X_test)\n",
    "model.score(X_test,y_test)\n",
    "#np.mean(yfit==y_test)"
   ]
  },
  {
   "cell_type": "markdown",
   "metadata": {},
   "source": [
    "### 모델 구축 (2)\n",
    "- Learn Algorithm = SVM\n",
    "- Hyper-parameters = gamma, C\n",
    "- K-Fold CV"
   ]
  },
  {
   "cell_type": "code",
   "execution_count": 137,
   "metadata": {},
   "outputs": [
    {
     "name": "stdout",
     "output_type": "stream",
     "text": [
      "(0.001, 1.0) 0.9167632850241546\n"
     ]
    }
   ],
   "source": [
    "from sklearn.model_selection import cross_val_score\n",
    "\n",
    "# 모델 구축, Learn Algorithm = SVM, Hyper-parameters = gamma, C\n",
    "scores = {}\n",
    "# grid search 6 * 6\n",
    "for gamma in np.logspace(-3,2,num=6) : \n",
    "    for C in np.logspace(-3,2,num=6) :\n",
    "        model = SVC(gamma=gamma, C=C)\n",
    "        scores[(gamma,C)] = cross_val_score(model, X_train, y_train, cv=10).mean()\n",
    "\n",
    "scores = pd.Series(scores)\n",
    "print(scores.idxmax(), scores.max())\n",
    "#print(np.logspace(-3,2,num=6))"
   ]
  },
  {
   "cell_type": "code",
   "execution_count": 138,
   "metadata": {},
   "outputs": [
    {
     "data": {
      "text/plain": [
       "0.9473684210526315"
      ]
     },
     "execution_count": 138,
     "metadata": {},
     "output_type": "execute_result"
    }
   ],
   "source": [
    "# 최종 모델 선택\n",
    "gamma = 0.001\n",
    "C = 1.0\n",
    "model = SVC(gamma=gamma, C=C)\n",
    "\n",
    "model.fit(X_train,y_train)\n",
    "model.score(X_test,y_test)"
   ]
  },
  {
   "cell_type": "markdown",
   "metadata": {},
   "source": [
    "### 모델 평가"
   ]
  },
  {
   "cell_type": "code",
   "execution_count": 139,
   "metadata": {},
   "outputs": [
    {
     "data": {
      "text/plain": [
       "array([[38,  4],\n",
       "       [ 2, 70]], dtype=int64)"
      ]
     },
     "execution_count": 139,
     "metadata": {},
     "output_type": "execute_result"
    }
   ],
   "source": [
    "from sklearn.metrics import confusion_matrix\n",
    "\n",
    "y_pred = model.predict(X_test)\n",
    "y_true = y_test\n",
    "confusion_matrix(y_true, y_pred)"
   ]
  },
  {
   "cell_type": "code",
   "execution_count": 140,
   "metadata": {},
   "outputs": [
    {
     "data": {
      "text/plain": [
       "(38, 4, 2, 70)"
      ]
     },
     "execution_count": 140,
     "metadata": {},
     "output_type": "execute_result"
    }
   ],
   "source": [
    "# negative = 악성, positive = 양성\n",
    "tn,fp,fn,tp = confusion_matrix(y_true,y_pred).ravel() # ravel 다차원을 1차원으로 푸는 것\n",
    "tn,fp,fn,tp"
   ]
  },
  {
   "cell_type": "code",
   "execution_count": 141,
   "metadata": {},
   "outputs": [
    {
     "name": "stdout",
     "output_type": "stream",
     "text": [
      "accuracy =  0.9473684210526315\n",
      "Precision =  0.9459459459459459\n",
      "Sensitivity =  0.9722222222222222\n",
      "f1 score =  0.958904109589041\n"
     ]
    }
   ],
   "source": [
    "#accuracy 1 = 양성, 0 = 악성\n",
    "print('accuracy = ',(tn+tp)/(tn+fp+fn+tp))\n",
    "#Precision\n",
    "print('Precision = ',tp/(tp+fp))\n",
    "#Sensitivity\n",
    "print('Sensitivity = ',tp/(tp+fn))\n",
    "#f1 socre\n",
    "precision = tp/(tp+fp)\n",
    "sensitivity = tp/(tp+fn)\n",
    "f1 = 2/(1/precision + 1/sensitivity)\n",
    "print('f1 score = ',f1)"
   ]
  },
  {
   "cell_type": "code",
   "execution_count": 142,
   "metadata": {},
   "outputs": [
    {
     "name": "stdout",
     "output_type": "stream",
     "text": [
      "accuracy =  0.9473684210526315\n",
      "Precision =  0.95\n",
      "Sensitivity =  0.9047619047619048\n",
      "f1 score =  0.9268292682926829\n"
     ]
    }
   ],
   "source": [
    "# negative = 양성, positive = 악성\n",
    "tp,fn,fp,tn = confusion_matrix(y_true,y_pred).ravel() \n",
    "\n",
    "#accuracy\n",
    "print('accuracy = ',(tn+tp)/(tn+fp+fn+tp))\n",
    "#Precision\n",
    "print('Precision = ',tp/(tp+fp))\n",
    "#Sensitivity\n",
    "print('Sensitivity = ',tp/(tp+fn))\n",
    "#f1 socre\n",
    "precision = tp/(tp+fp)\n",
    "sensitivity = tp/(tp+fn)\n",
    "f1 = 2/(1/precision + 1/sensitivity)\n",
    "print('f1 score = ',f1)"
   ]
  },
  {
   "cell_type": "code",
   "execution_count": 143,
   "metadata": {},
   "outputs": [
    {
     "data": {
      "text/plain": [
       "0.9589041095890412"
      ]
     },
     "execution_count": 143,
     "metadata": {},
     "output_type": "execute_result"
    }
   ],
   "source": [
    "# https://scikit-learn.org/stable/modules/generated/sklearn.metrics.f1_score.html\n",
    "from sklearn.metrics import f1_score\n",
    "f1_score(y_true,y_pred)"
   ]
  }
 ],
 "metadata": {
  "kernelspec": {
   "display_name": "Python 3",
   "language": "python",
   "name": "python3"
  },
  "language_info": {
   "codemirror_mode": {
    "name": "ipython",
    "version": 3
   },
   "file_extension": ".py",
   "mimetype": "text/x-python",
   "name": "python",
   "nbconvert_exporter": "python",
   "pygments_lexer": "ipython3",
   "version": "3.8.5"
  }
 },
 "nbformat": 4,
 "nbformat_minor": 4
}
